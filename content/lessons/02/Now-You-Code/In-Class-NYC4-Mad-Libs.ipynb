{
 "cells": [
  {
   "cell_type": "markdown",
   "metadata": {},
   "source": [
    "# Now You Code 4: Mad Libs!\n",
    "\n",
    "Write a Python program which creates your own unique Mad-Libs! story.\n",
    "\n",
    "If you are not familar with a Mad-Libs! story, check out:\n",
    "http://www.madlibs.com and http://www.madtakes.com\n",
    "\n",
    "Your story should take at least 5 inputs, and should include more than\n",
    "once sentence. \n"
   ]
  },
  {
   "cell_type": "markdown",
   "metadata": {
    "collapsed": true
   },
   "source": [
    "## Step 1: Problem Analysis\n",
    "\n",
    "\n",
    "\n",
    "Inputs:\n",
    "\n",
    "- a sport\n",
    "- a adjective like \"fun\"\n",
    "- as action verb \"slide\"\n",
    "- an object 'skis'\n",
    "- a place\n",
    "\n",
    "Outputs:\n",
    "\n",
    "The game of <sport> is very <adj>. Player <verb> the <noun> all around the <place>.\n",
    "\n",
    "Algorithm (Steps in Program):\n",
    "\n",
    "1. input a sport\n",
    "2. input a adj like fun or enjoyable\n",
    "3. input an action verb like jog\n",
    "4. input an object\n",
    "5. input a place\n",
    "6. output my story"
   ]
  },
  {
   "cell_type": "code",
   "execution_count": 5,
   "metadata": {},
   "outputs": [
    {
     "name": "stdout",
     "output_type": "stream",
     "text": [
      "Enter a sport, like hockey: baseball\n",
      "Enter an Adj. like fun or sad: fast\n",
      "Enter an action verb like run or slide: slide\n",
      "Enter an object, like ball or rock: base\n",
      "Enter a place like Syracuse or bathroom: home\n",
      "The game of baseball is very fast . Player slide the base all around the  home .\n"
     ]
    }
   ],
   "source": [
    "# Step 2: Write code here\n",
    "sport = input(\"Enter a sport, like hockey: \")\n",
    "adj = input(\"Enter an Adj. like fun or sad: \")\n",
    "action = input(\"Enter an action verb like run or slide: \")\n",
    "obj = input(\"Enter an object, like ball or rock: \")\n",
    "place = input(\"Enter a place like Syracuse or bathroom: \")\n",
    "print(\"The game of\", sport, \"is very\", adj, \". Player \", end=\"\")\n",
    "print(action, \"the\", obj, \"all around the \", place , \".\")\n",
    "\n"
   ]
  },
  {
   "cell_type": "markdown",
   "metadata": {},
   "source": [
    "## Step 3: Questions\n",
    "\n",
    "1. What happens when you neglect to follow the instructions and enter any inputs we desire? Does the code still run? Why?\n",
    "\n",
    "Yes it does. \n",
    "\n",
    "2. What type of error occurs when the program runs but does not handle bad input?\n",
    "\n",
    "Logic error\n",
    "\n",
    "3. Is there anything you can do in code to correct this type of error? Why or why not?\n",
    "\n"
   ]
  },
  {
   "cell_type": "markdown",
   "metadata": {},
   "source": [
    "## Reminder of Evaluation Criteria\n",
    "\n",
    "1. What the problem attempted (analysis, code, and answered questions) ?\n",
    "2. What the problem analysis thought out? (does the program match the plan?)\n",
    "3. Does the code execute without syntax error?\n",
    "4. Does the code solve the intended problem?\n",
    "5. Is the code well written? (easy to understand, modular, and self-documenting, handles errors)\n"
   ]
  },
  {
   "cell_type": "code",
   "execution_count": null,
   "metadata": {
    "collapsed": true
   },
   "outputs": [],
   "source": []
  }
 ],
 "metadata": {
  "anaconda-cloud": {},
  "kernelspec": {
   "display_name": "Python 3",
   "language": "python",
   "name": "python3"
  },
  "language_info": {
   "codemirror_mode": {
    "name": "ipython",
    "version": 3
   },
   "file_extension": ".py",
   "mimetype": "text/x-python",
   "name": "python",
   "nbconvert_exporter": "python",
   "pygments_lexer": "ipython3",
   "version": "3.6.6"
  }
 },
 "nbformat": 4,
 "nbformat_minor": 1
}
