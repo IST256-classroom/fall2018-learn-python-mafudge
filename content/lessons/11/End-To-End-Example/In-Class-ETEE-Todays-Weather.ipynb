{
 "cells": [
  {
   "cell_type": "markdown",
   "metadata": {},
   "source": [
    "# End-To-End Example: Today's Weather\n",
    "\n",
    "This example will input a location and then output today's current weather conditions at that location. \n",
    "\n",
    "To complete this example we will use the following API's \n",
    "\n",
    "- OpenStreetMaps Geocode api to get GPS coordinates for a location eg. Syracuse, NY\n",
    "- Darksky.net forecast api to get the currnt weather conditions for those GPS coordinates\n"
   ]
  },
  {
   "cell_type": "code",
   "execution_count": 1,
   "metadata": {},
   "outputs": [],
   "source": [
    "# Todo list\n",
    "# input a location eg. Syracuse, ny\n",
    "# use the google geocode api to get a lat/lng\n",
    "# use the darksky api and lat/lng to get current weather conditions\n",
    "# output current weather conditions (temperature and summary (rain, snow, etc...))\n",
    "\n",
    "\n",
    "# Keys and URLS I will need\n",
    "# params = {'q' : location, 'format': 'json'}\n",
    "# gurl='https://nominatim.openstreetmap.org/search'\n",
    "# wkey='bb903709924ce81390257e3161422ccb'\n",
    "# wurl='https://api.darksky.net/forecast/%s/%f,%f' % (key, coords['lat'], coords['lng'])"
   ]
  },
  {
   "cell_type": "code",
   "execution_count": null,
   "metadata": {},
   "outputs": [],
   "source": []
  }
 ],
 "metadata": {
  "anaconda-cloud": {},
  "kernelspec": {
   "display_name": "Python 3",
   "language": "python",
   "name": "python3"
  },
  "language_info": {
   "codemirror_mode": {
    "name": "ipython",
    "version": 3
   },
   "file_extension": ".py",
   "mimetype": "text/x-python",
   "name": "python",
   "nbconvert_exporter": "python",
   "pygments_lexer": "ipython3",
   "version": "3.6.6"
  }
 },
 "nbformat": 4,
 "nbformat_minor": 1
}
