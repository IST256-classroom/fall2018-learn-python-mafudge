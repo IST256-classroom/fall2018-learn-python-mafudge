{
 "cells": [
  {
   "cell_type": "markdown",
   "metadata": {},
   "source": [
    "# End-To-End Example: Get Calories For Popular Beers\n",
    "\n",
    "This example uses a data file `\"ETEE-beer-calories.txt\"` which contains calorie information for 254 popular beers. The calories are per 12 fluid ounces.\n",
    "\n",
    "The data file looks like this:\n",
    "```\n",
    "...\n",
    "Abita Purple Haze,128\n",
    "Abita Restoration,167\n",
    "Abita Turbodog,168\n",
    "Amstel Light,99\n",
    "Anchor Porter,209\n",
    "...\n",
    "```\n",
    "\n",
    "Let's write a program to search for a beer by name and retrieve the number of calories in 12 ounces.\n",
    "\n",
    "Example Run:\n",
    "\n",
    "```\n",
    "Enter a beer name: Stella\n",
    "Searching for Stella...\n",
    "Stella Artois has 154 calories per 12oz.\n",
    "```"
   ]
  },
  {
   "cell_type": "markdown",
   "metadata": {},
   "source": [
    "input name of beer\n",
    "input number drank\n",
    "for each beer in beer list:\n",
    "   if input name of beer matches the beer\n",
    "   get the calories\n",
    "   \n",
    "output total calories calories X number drank"
   ]
  },
  {
   "cell_type": "code",
   "execution_count": 14,
   "metadata": {},
   "outputs": [
    {
     "name": "stdout",
     "output_type": "stream",
     "text": [
      "Enter the beer you drank: red stripe\n",
      "How many did you drink? 2\n",
      "2 cans of Red Stripe at 153 calories each is 306\n"
     ]
    }
   ],
   "source": [
    "beerfile='ETEE-beer-calories.txt'\n",
    "beer_name = input(\"Enter the beer you drank: \").title()\n",
    "qty = int(input(\"How many did you drink? \"))\n",
    "with open (beerfile,'r') as beers:\n",
    "    for line in beers:\n",
    "        name, cal = line.split(',')  # \"Red Stripe,153\" becomes name=\"Red Stripe\" cal=\"153\"\n",
    "        if name == beer_name:\n",
    "            break\n",
    "\n",
    "cal = int(cal) # we need to parse as an int         \n",
    "print('%d cans of %s at %d calories each is %d' % (qty, name,cal,  cal * qty))"
   ]
  },
  {
   "cell_type": "code",
   "execution_count": null,
   "metadata": {},
   "outputs": [],
   "source": []
  },
  {
   "cell_type": "code",
   "execution_count": null,
   "metadata": {},
   "outputs": [],
   "source": []
  },
  {
   "cell_type": "code",
   "execution_count": null,
   "metadata": {},
   "outputs": [],
   "source": []
  },
  {
   "cell_type": "code",
   "execution_count": null,
   "metadata": {},
   "outputs": [],
   "source": []
  },
  {
   "cell_type": "code",
   "execution_count": null,
   "metadata": {},
   "outputs": [],
   "source": []
  },
  {
   "cell_type": "code",
   "execution_count": null,
   "metadata": {},
   "outputs": [],
   "source": []
  },
  {
   "cell_type": "code",
   "execution_count": 1,
   "metadata": {},
   "outputs": [
    {
     "name": "stdout",
     "output_type": "stream",
     "text": [
      "Enter a beer name: Stella\n",
      "Searching for Stella...\n",
      "Stella Artois has 154 calories per 12oz.\n"
     ]
    }
   ],
   "source": [
    "\n",
    "\n",
    "filename = \"ETEE-beer-calories.txt\"\n",
    "try:\n",
    "    with open (filename,\"r\") as f:\n",
    "        beer = input(\"Enter a beer name: \").title()\n",
    "        print(\"Searching for %s...\" % (beer))\n",
    "        for line in f.readlines():\n",
    "            if beer in line:\n",
    "                beer_name = line.split(',')[0]\n",
    "                calories = int(line.split(',')[1])\n",
    "                print(\"%s has %d calories per 12oz.\" % (beer_name, calories))\n",
    "                break\n",
    "        else:\n",
    "            print(\"I could not find %s\" % (beer))\n",
    "except FileNotFoundError:\n",
    "    print(\"Could not find data file '%s'\" % (filename))\n",
    "\n"
   ]
  },
  {
   "cell_type": "code",
   "execution_count": null,
   "metadata": {},
   "outputs": [],
   "source": []
  }
 ],
 "metadata": {
  "anaconda-cloud": {},
  "kernelspec": {
   "display_name": "Python 3",
   "language": "python",
   "name": "python3"
  },
  "language_info": {
   "codemirror_mode": {
    "name": "ipython",
    "version": 3
   },
   "file_extension": ".py",
   "mimetype": "text/x-python",
   "name": "python",
   "nbconvert_exporter": "python",
   "pygments_lexer": "ipython3",
   "version": "3.6.6"
  }
 },
 "nbformat": 4,
 "nbformat_minor": 1
}
