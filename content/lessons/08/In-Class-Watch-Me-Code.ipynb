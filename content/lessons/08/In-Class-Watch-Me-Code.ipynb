{
 "cells": [
  {
   "cell_type": "code",
   "execution_count": 5,
   "metadata": {},
   "outputs": [
    {
     "name": "stdout",
     "output_type": "stream",
     "text": [
      "Enter something I will write it to a file 32478956098347509847235089723409857\n"
     ]
    }
   ],
   "source": [
    "filename= 'demo.txt'\n",
    "text = input(\"Enter something I will write it to a file \")\n",
    "with open(filename, 'w') as out_file:\n",
    "    out_file.write(text)"
   ]
  },
  {
   "cell_type": "code",
   "execution_count": 6,
   "metadata": {},
   "outputs": [
    {
     "name": "stdout",
     "output_type": "stream",
     "text": [
      "32478956098347509847235089723409857\n"
     ]
    }
   ],
   "source": [
    "with open(filename, 'r') as in_file:\n",
    "    text = in_file.read()\n",
    "    print(text)"
   ]
  },
  {
   "cell_type": "code",
   "execution_count": 7,
   "metadata": {},
   "outputs": [
    {
     "name": "stdout",
     "output_type": "stream",
     "text": [
      "I am sam\n",
      "sam I am\n",
      "do you like green eggs and ham\n"
     ]
    }
   ],
   "source": [
    "# all at once\n",
    "with open('demo.txt', 'r') as f:\n",
    "    text = f.read()\n",
    "    print(text)"
   ]
  },
  {
   "cell_type": "code",
   "execution_count": 10,
   "metadata": {},
   "outputs": [
    {
     "name": "stdout",
     "output_type": "stream",
     "text": [
      "I am sam\n",
      "sam I am\n",
      "do you like green eggs and ham\n",
      "I do not like green eggs and ham\n",
      "\n",
      "\n",
      "by mike fudge\n"
     ]
    }
   ],
   "source": [
    "# a line at a time\n",
    "with open('demo.txt', 'r') as f:\n",
    "    for line in f:\n",
    "        print(line.strip())"
   ]
  },
  {
   "cell_type": "code",
   "execution_count": 21,
   "metadata": {},
   "outputs": [
    {
     "name": "stdout",
     "output_type": "stream",
     "text": [
      "cannot find file\n"
     ]
    }
   ],
   "source": [
    "# read all the grades and print the average\n",
    "try:\n",
    "    total = 0\n",
    "    count = 0\n",
    "    with open ('gradez.txt', 'r') as f:\n",
    "        for line in f:\n",
    "            #print(line.strip())\n",
    "            count += 1\n",
    "            total += int(line)\n",
    "\n",
    "    print('COUNT= %d grades, TOTAL= %d, AVG = %f' % (count, total, total/count))\n",
    "except FileNotFoundError:\n",
    "    print('cannot find file')"
   ]
  },
  {
   "cell_type": "code",
   "execution_count": 14,
   "metadata": {},
   "outputs": [
    {
     "data": {
      "text/plain": [
       "str"
      ]
     },
     "execution_count": 14,
     "metadata": {},
     "output_type": "execute_result"
    }
   ],
   "source": [
    "type(line)"
   ]
  },
  {
   "cell_type": "code",
   "execution_count": null,
   "metadata": {},
   "outputs": [],
   "source": []
  }
 ],
 "metadata": {
  "kernelspec": {
   "display_name": "Python 3",
   "language": "python",
   "name": "python3"
  },
  "language_info": {
   "codemirror_mode": {
    "name": "ipython",
    "version": 3
   },
   "file_extension": ".py",
   "mimetype": "text/x-python",
   "name": "python",
   "nbconvert_exporter": "python",
   "pygments_lexer": "ipython3",
   "version": "3.6.6"
  }
 },
 "nbformat": 4,
 "nbformat_minor": 2
}
