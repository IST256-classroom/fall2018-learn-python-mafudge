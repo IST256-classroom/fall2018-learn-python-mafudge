{
 "cells": [
  {
   "cell_type": "markdown",
   "metadata": {},
   "source": [
    "# Watch Me Code 2: Plotly and Cufflinks\n",
    "\n",
    "- Plotly is a cloud based plotting service. It uses the popular JavaScript library D3.js.\n",
    "- Plotly is simple to use \n",
    "- It includes a module called `cufflinks` to attach Plotly to pandas"
   ]
  },
  {
   "cell_type": "code",
   "execution_count": null,
   "metadata": {},
   "outputs": [],
   "source": [
    "!pip install --user -q plotly cufflinks"
   ]
  },
  {
   "cell_type": "code",
   "execution_count": 1,
   "metadata": {},
   "outputs": [],
   "source": [
    "import plotly \n",
    "import plotly.plotly as py     \n",
    "import plotly.graph_objs as go  \n",
    "import cufflinks as cf\n",
    "import pandas as pd"
   ]
  },
  {
   "cell_type": "markdown",
   "metadata": {},
   "source": [
    "To use plot.ly you need to sign up for a free account then get API credentials. https://plot.ly/settings/api"
   ]
  },
  {
   "cell_type": "code",
   "execution_count": 2,
   "metadata": {},
   "outputs": [],
   "source": [
    "# setup the credentials\n",
    "plotly.tools.set_credentials_file(username='mafudge73fc', api_key='0NJSvQxS50gU7N4fwADO')"
   ]
  },
  {
   "cell_type": "code",
   "execution_count": 3,
   "metadata": {},
   "outputs": [
    {
     "data": {
      "text/html": [
       "<div>\n",
       "<style scoped>\n",
       "    .dataframe tbody tr th:only-of-type {\n",
       "        vertical-align: middle;\n",
       "    }\n",
       "\n",
       "    .dataframe tbody tr th {\n",
       "        vertical-align: top;\n",
       "    }\n",
       "\n",
       "    .dataframe thead th {\n",
       "        text-align: right;\n",
       "    }\n",
       "</style>\n",
       "<table border=\"1\" class=\"dataframe\">\n",
       "  <thead>\n",
       "    <tr style=\"text-align: right;\">\n",
       "      <th></th>\n",
       "      <th>subjects</th>\n",
       "      <th>grades</th>\n",
       "    </tr>\n",
       "  </thead>\n",
       "  <tbody>\n",
       "    <tr>\n",
       "      <th>0</th>\n",
       "      <td>Mathematics</td>\n",
       "      <td>67</td>\n",
       "    </tr>\n",
       "    <tr>\n",
       "      <th>1</th>\n",
       "      <td>English</td>\n",
       "      <td>60</td>\n",
       "    </tr>\n",
       "    <tr>\n",
       "      <th>2</th>\n",
       "      <td>History</td>\n",
       "      <td>36</td>\n",
       "    </tr>\n",
       "    <tr>\n",
       "      <th>3</th>\n",
       "      <td>Science</td>\n",
       "      <td>61</td>\n",
       "    </tr>\n",
       "    <tr>\n",
       "      <th>4</th>\n",
       "      <td>Arts</td>\n",
       "      <td>58</td>\n",
       "    </tr>\n",
       "  </tbody>\n",
       "</table>\n",
       "</div>"
      ],
      "text/plain": [
       "      subjects  grades\n",
       "0  Mathematics      67\n",
       "1      English      60\n",
       "2      History      36\n",
       "3      Science      61\n",
       "4         Arts      58"
      ]
     },
     "execution_count": 3,
     "metadata": {},
     "output_type": "execute_result"
    }
   ],
   "source": [
    "# Start with a Simple Pandas DataFrame\n",
    "grades = { 'subjects' : ['Mathematics', 'English', 'History', 'Science', 'Arts'],\n",
    "           'grades' : [67, 60, 36, 61, 58]\n",
    "         }\n",
    "grades_df = pd.DataFrame(grades)\n",
    "grades_df"
   ]
  },
  {
   "cell_type": "markdown",
   "metadata": {},
   "source": [
    "To plot with plotly, we need:\n",
    "\n",
    "- Data: this is a list of subplots, \n",
    "- A Python Dictionary of information to put on the plot"
   ]
  },
  {
   "cell_type": "code",
   "execution_count": 10,
   "metadata": {},
   "outputs": [
    {
     "data": {
      "text/html": [
       "<iframe id=\"igraph\" scrolling=\"no\" style=\"border:none;\" seamless=\"seamless\" src=\"https://plot.ly/~mafudge73fc/276.embed\" height=\"525px\" width=\"100%\"></iframe>"
      ],
      "text/plain": [
       "<plotly.tools.PlotlyDisplay object>"
      ]
     },
     "execution_count": 10,
     "metadata": {},
     "output_type": "execute_result"
    }
   ],
   "source": [
    "grade_data = [go.Bar(x=grades_df['subjects'], y=grades_df['grades'])] # Bar Plot, note this is a list\n",
    "\n",
    "py.iplot({ 'data': grade_data,\n",
    "            'layout': {\n",
    "               'title': 'My Grades R Asum',\n",
    "               'xaxis': {\n",
    "                 'title': 'Subjects Are Bad'},\n",
    "               'yaxis': {\n",
    "                'title': 'Grades'}\n",
    "        }})"
   ]
  },
  {
   "cell_type": "markdown",
   "metadata": {},
   "source": [
    "Cufflinks is a Python module which \"attaches\" plot.ly to the dataframe (just like cufflinks \"attach\" to your shirt-sleeve). \n",
    "\n",
    "This allows you to plot similarly to pandas."
   ]
  },
  {
   "cell_type": "code",
   "execution_count": 11,
   "metadata": {},
   "outputs": [
    {
     "data": {
      "text/html": [
       "<iframe id=\"igraph\" scrolling=\"no\" style=\"border:none;\" seamless=\"seamless\" src=\"https://plot.ly/~mafudge73fc/278.embed\" height=\"525px\" width=\"100%\"></iframe>"
      ],
      "text/plain": [
       "<plotly.tools.PlotlyDisplay object>"
      ]
     },
     "execution_count": 11,
     "metadata": {},
     "output_type": "execute_result"
    }
   ],
   "source": [
    "# Same plot as a one-liner with cufflinks!\n",
    "grades_df.iplot(kind='bar', x='subjects', y='grades', title='My Grades R Awesum', xTitle='Grades', yTitle='Subjects Are Bad')"
   ]
  },
  {
   "cell_type": "code",
   "execution_count": 5,
   "metadata": {},
   "outputs": [
    {
     "ename": "AttributeError",
     "evalue": "'Pie' object has no attribute 'items'",
     "output_type": "error",
     "traceback": [
      "\u001b[1;31m---------------------------------------------------------------------------\u001b[0m",
      "\u001b[1;31mAttributeError\u001b[0m                            Traceback (most recent call last)",
      "\u001b[1;32m<ipython-input-5-257b6f67f1a9>\u001b[0m in \u001b[0;36m<module>\u001b[1;34m()\u001b[0m\n\u001b[0;32m      1\u001b[0m \u001b[1;31m# Have some pie, note it uses labels and values\u001b[0m\u001b[1;33m\u001b[0m\u001b[1;33m\u001b[0m\u001b[0m\n\u001b[1;32m----> 2\u001b[1;33m \u001b[0mgrades_df\u001b[0m\u001b[1;33m.\u001b[0m\u001b[0miplot\u001b[0m\u001b[1;33m(\u001b[0m\u001b[0mkind\u001b[0m\u001b[1;33m=\u001b[0m\u001b[1;34m'pie'\u001b[0m\u001b[1;33m,\u001b[0m \u001b[0mlabels\u001b[0m\u001b[1;33m=\u001b[0m\u001b[1;34m'subjects'\u001b[0m\u001b[1;33m,\u001b[0m \u001b[0mvalues\u001b[0m\u001b[1;33m=\u001b[0m\u001b[1;34m'grades'\u001b[0m\u001b[1;33m)\u001b[0m \u001b[1;31m#, title='My Grades R Awesum')\u001b[0m\u001b[1;33m\u001b[0m\u001b[0m\n\u001b[0m",
      "\u001b[1;32mc:\\users\\mafudge\\appdata\\local\\programs\\python\\python36\\lib\\site-packages\\cufflinks\\plotlytools.py\u001b[0m in \u001b[0;36m_iplot\u001b[1;34m(self, kind, data, layout, filename, sharing, title, xTitle, yTitle, zTitle, theme, colors, colorscale, fill, width, dash, mode, interpolation, symbol, size, barmode, sortbars, bargap, bargroupgap, bins, histnorm, histfunc, orientation, boxpoints, annotations, keys, bestfit, bestfit_colors, mean, mean_colors, categories, x, y, z, text, gridcolor, zerolinecolor, margin, labels, values, secondary_y, secondary_y_title, subplots, shape, error_x, error_y, error_type, locations, lon, lat, asFrame, asDates, asFigure, asImage, dimensions, asPlot, asUrl, online, **kwargs)\u001b[0m\n\u001b[0;32m   1193\u001b[0m \t\treturn iplot(figure,validate=validate,sharing=sharing,filename=filename,\n\u001b[0;32m   1194\u001b[0m                          \u001b[0monline\u001b[0m\u001b[1;33m=\u001b[0m\u001b[0monline\u001b[0m\u001b[1;33m,\u001b[0m\u001b[0masImage\u001b[0m\u001b[1;33m=\u001b[0m\u001b[0masImage\u001b[0m\u001b[1;33m,\u001b[0m\u001b[0masUrl\u001b[0m\u001b[1;33m=\u001b[0m\u001b[0masUrl\u001b[0m\u001b[1;33m,\u001b[0m\u001b[0masPlot\u001b[0m\u001b[1;33m=\u001b[0m\u001b[0masPlot\u001b[0m\u001b[1;33m,\u001b[0m\u001b[1;33m\u001b[0m\u001b[0m\n\u001b[1;32m-> 1195\u001b[1;33m \t\t\t dimensions=dimensions,display_image=kwargs.get('display_image',True))\n\u001b[0m\u001b[0;32m   1196\u001b[0m \u001b[1;33m\u001b[0m\u001b[0m\n\u001b[0;32m   1197\u001b[0m \u001b[1;33m\u001b[0m\u001b[0m\n",
      "\u001b[1;32mc:\\users\\mafudge\\appdata\\local\\programs\\python\\python36\\lib\\site-packages\\cufflinks\\plotlytools.py\u001b[0m in \u001b[0;36miplot\u001b[1;34m(figure, validate, sharing, filename, online, asImage, asUrl, asPlot, dimensions, display_image, **kwargs)\u001b[0m\n\u001b[0;32m   1438\u001b[0m         \u001b[1;32melse\u001b[0m\u001b[1;33m:\u001b[0m\u001b[1;33m\u001b[0m\u001b[0m\n\u001b[0;32m   1439\u001b[0m \t\treturn py.iplot(figure,validate=validate,sharing=sharing,\n\u001b[1;32m-> 1440\u001b[1;33m \t\t\t\t\t\tfilename=filename)\n\u001b[0m\u001b[0;32m   1441\u001b[0m \u001b[1;33m\u001b[0m\u001b[0m\n\u001b[0;32m   1442\u001b[0m \u001b[1;33m\u001b[0m\u001b[0m\n",
      "\u001b[1;32mc:\\users\\mafudge\\appdata\\local\\programs\\python\\python36\\lib\\site-packages\\plotly\\plotly\\plotly.py\u001b[0m in \u001b[0;36miplot\u001b[1;34m(figure_or_data, **plot_options)\u001b[0m\n\u001b[0;32m    140\u001b[0m     \u001b[1;32mif\u001b[0m \u001b[1;34m'auto_open'\u001b[0m \u001b[1;32mnot\u001b[0m \u001b[1;32min\u001b[0m \u001b[0mplot_options\u001b[0m\u001b[1;33m:\u001b[0m\u001b[1;33m\u001b[0m\u001b[0m\n\u001b[0;32m    141\u001b[0m         \u001b[0mplot_options\u001b[0m\u001b[1;33m[\u001b[0m\u001b[1;34m'auto_open'\u001b[0m\u001b[1;33m]\u001b[0m \u001b[1;33m=\u001b[0m \u001b[1;32mFalse\u001b[0m\u001b[1;33m\u001b[0m\u001b[0m\n\u001b[1;32m--> 142\u001b[1;33m     \u001b[0murl\u001b[0m \u001b[1;33m=\u001b[0m \u001b[0mplot\u001b[0m\u001b[1;33m(\u001b[0m\u001b[0mfigure_or_data\u001b[0m\u001b[1;33m,\u001b[0m \u001b[1;33m**\u001b[0m\u001b[0mplot_options\u001b[0m\u001b[1;33m)\u001b[0m\u001b[1;33m\u001b[0m\u001b[0m\n\u001b[0m\u001b[0;32m    143\u001b[0m \u001b[1;33m\u001b[0m\u001b[0m\n\u001b[0;32m    144\u001b[0m     \u001b[1;32mif\u001b[0m \u001b[0misinstance\u001b[0m\u001b[1;33m(\u001b[0m\u001b[0mfigure_or_data\u001b[0m\u001b[1;33m,\u001b[0m \u001b[0mdict\u001b[0m\u001b[1;33m)\u001b[0m\u001b[1;33m:\u001b[0m\u001b[1;33m\u001b[0m\u001b[0m\n",
      "\u001b[1;32mc:\\users\\mafudge\\appdata\\local\\programs\\python\\python36\\lib\\site-packages\\plotly\\plotly\\plotly.py\u001b[0m in \u001b[0;36mplot\u001b[1;34m(figure_or_data, validate, **plot_options)\u001b[0m\n\u001b[0;32m    209\u001b[0m         \u001b[1;32mif\u001b[0m \u001b[1;33m(\u001b[0m\u001b[1;34m'type'\u001b[0m \u001b[1;32min\u001b[0m \u001b[0mentry\u001b[0m\u001b[1;33m)\u001b[0m \u001b[1;32mand\u001b[0m \u001b[1;33m(\u001b[0m\u001b[0mentry\u001b[0m\u001b[1;33m[\u001b[0m\u001b[1;34m'type'\u001b[0m\u001b[1;33m]\u001b[0m \u001b[1;33m==\u001b[0m \u001b[1;34m'scattergl'\u001b[0m\u001b[1;33m)\u001b[0m\u001b[1;33m:\u001b[0m\u001b[1;33m\u001b[0m\u001b[0m\n\u001b[0;32m    210\u001b[0m             \u001b[1;32mcontinue\u001b[0m\u001b[1;33m\u001b[0m\u001b[0m\n\u001b[1;32m--> 211\u001b[1;33m         \u001b[1;32mfor\u001b[0m \u001b[0mkey\u001b[0m\u001b[1;33m,\u001b[0m \u001b[0mval\u001b[0m \u001b[1;32min\u001b[0m \u001b[0mlist\u001b[0m\u001b[1;33m(\u001b[0m\u001b[0mentry\u001b[0m\u001b[1;33m.\u001b[0m\u001b[0mitems\u001b[0m\u001b[1;33m(\u001b[0m\u001b[1;33m)\u001b[0m\u001b[1;33m)\u001b[0m\u001b[1;33m:\u001b[0m\u001b[1;33m\u001b[0m\u001b[0m\n\u001b[0m\u001b[0;32m    212\u001b[0m             \u001b[1;32mtry\u001b[0m\u001b[1;33m:\u001b[0m\u001b[1;33m\u001b[0m\u001b[0m\n\u001b[0;32m    213\u001b[0m                 \u001b[1;32mif\u001b[0m \u001b[0mlen\u001b[0m\u001b[1;33m(\u001b[0m\u001b[0mval\u001b[0m\u001b[1;33m)\u001b[0m \u001b[1;33m>\u001b[0m \u001b[1;36m40000\u001b[0m\u001b[1;33m:\u001b[0m\u001b[1;33m\u001b[0m\u001b[0m\n",
      "\u001b[1;31mAttributeError\u001b[0m: 'Pie' object has no attribute 'items'"
     ]
    }
   ],
   "source": [
    "# Have some pie, note it uses labels and values\n",
    "grades_df.iplot(kind='pie', labels='subjects', values='grades') #, title='My Grades R Awesum')"
   ]
  },
  {
   "cell_type": "code",
   "execution_count": null,
   "metadata": {},
   "outputs": [],
   "source": [
    "# Don't like all that color? \n",
    "grades_df.iplot(kind='pie', labels='subjects', values='grades', title='My Grades R Awesum', colorscale='greens', textinfo='value+percent')"
   ]
  },
  {
   "cell_type": "markdown",
   "metadata": {},
   "source": [
    "How about an example with multiple series? For that we need to pull in another dataset"
   ]
  },
  {
   "cell_type": "code",
   "execution_count": 15,
   "metadata": {},
   "outputs": [
    {
     "data": {
      "text/html": [
       "<div>\n",
       "<style scoped>\n",
       "    .dataframe tbody tr th:only-of-type {\n",
       "        vertical-align: middle;\n",
       "    }\n",
       "\n",
       "    .dataframe tbody tr th {\n",
       "        vertical-align: top;\n",
       "    }\n",
       "\n",
       "    .dataframe thead th {\n",
       "        text-align: right;\n",
       "    }\n",
       "</style>\n",
       "<table border=\"1\" class=\"dataframe\">\n",
       "  <thead>\n",
       "    <tr style=\"text-align: right;\">\n",
       "      <th></th>\n",
       "      <th>EST</th>\n",
       "      <th>Max TemperatureF</th>\n",
       "      <th>Mean TemperatureF</th>\n",
       "      <th>Min TemperatureF</th>\n",
       "      <th>Max Dew PointF</th>\n",
       "      <th>MeanDew PointF</th>\n",
       "      <th>Min DewpointF</th>\n",
       "      <th>Max Humidity</th>\n",
       "      <th>Mean Humidity</th>\n",
       "      <th>Min Humidity</th>\n",
       "      <th>...</th>\n",
       "      <th>Max VisibilityMiles</th>\n",
       "      <th>Mean VisibilityMiles</th>\n",
       "      <th>Min VisibilityMiles</th>\n",
       "      <th>Max Wind SpeedMPH</th>\n",
       "      <th>Mean Wind SpeedMPH</th>\n",
       "      <th>Max Gust SpeedMPH</th>\n",
       "      <th>PrecipitationIn</th>\n",
       "      <th>CloudCover</th>\n",
       "      <th>Events</th>\n",
       "      <th>WindDirDegrees</th>\n",
       "    </tr>\n",
       "  </thead>\n",
       "  <tbody>\n",
       "    <tr>\n",
       "      <th>6480</th>\n",
       "      <td>2015-1-1</td>\n",
       "      <td>34</td>\n",
       "      <td>27.0</td>\n",
       "      <td>20</td>\n",
       "      <td>25</td>\n",
       "      <td>13</td>\n",
       "      <td>8</td>\n",
       "      <td>91</td>\n",
       "      <td>64</td>\n",
       "      <td>36</td>\n",
       "      <td>...</td>\n",
       "      <td>10</td>\n",
       "      <td>8</td>\n",
       "      <td>1</td>\n",
       "      <td>28</td>\n",
       "      <td>12</td>\n",
       "      <td>33.0</td>\n",
       "      <td>0.01</td>\n",
       "      <td>8</td>\n",
       "      <td>Snow</td>\n",
       "      <td>248</td>\n",
       "    </tr>\n",
       "    <tr>\n",
       "      <th>6481</th>\n",
       "      <td>2015-1-2</td>\n",
       "      <td>31</td>\n",
       "      <td>23.0</td>\n",
       "      <td>15</td>\n",
       "      <td>26</td>\n",
       "      <td>23</td>\n",
       "      <td>15</td>\n",
       "      <td>100</td>\n",
       "      <td>82</td>\n",
       "      <td>63</td>\n",
       "      <td>...</td>\n",
       "      <td>10</td>\n",
       "      <td>4</td>\n",
       "      <td>0</td>\n",
       "      <td>22</td>\n",
       "      <td>9</td>\n",
       "      <td>28.0</td>\n",
       "      <td>0.03</td>\n",
       "      <td>8</td>\n",
       "      <td>Fog-Snow</td>\n",
       "      <td>285</td>\n",
       "    </tr>\n",
       "    <tr>\n",
       "      <th>6482</th>\n",
       "      <td>2015-1-3</td>\n",
       "      <td>40</td>\n",
       "      <td>28.0</td>\n",
       "      <td>15</td>\n",
       "      <td>37</td>\n",
       "      <td>23</td>\n",
       "      <td>15</td>\n",
       "      <td>100</td>\n",
       "      <td>87</td>\n",
       "      <td>74</td>\n",
       "      <td>...</td>\n",
       "      <td>10</td>\n",
       "      <td>6</td>\n",
       "      <td>1</td>\n",
       "      <td>21</td>\n",
       "      <td>10</td>\n",
       "      <td>29.0</td>\n",
       "      <td>0.97</td>\n",
       "      <td>8</td>\n",
       "      <td>Rain-Snow</td>\n",
       "      <td>84</td>\n",
       "    </tr>\n",
       "    <tr>\n",
       "      <th>6483</th>\n",
       "      <td>2015-1-4</td>\n",
       "      <td>55</td>\n",
       "      <td>44.0</td>\n",
       "      <td>33</td>\n",
       "      <td>51</td>\n",
       "      <td>39</td>\n",
       "      <td>27</td>\n",
       "      <td>100</td>\n",
       "      <td>88</td>\n",
       "      <td>76</td>\n",
       "      <td>...</td>\n",
       "      <td>10</td>\n",
       "      <td>10</td>\n",
       "      <td>7</td>\n",
       "      <td>35</td>\n",
       "      <td>13</td>\n",
       "      <td>45.0</td>\n",
       "      <td>0.03</td>\n",
       "      <td>8</td>\n",
       "      <td>Rain-Snow</td>\n",
       "      <td>259</td>\n",
       "    </tr>\n",
       "    <tr>\n",
       "      <th>6484</th>\n",
       "      <td>2015-1-5</td>\n",
       "      <td>33</td>\n",
       "      <td>22.0</td>\n",
       "      <td>10</td>\n",
       "      <td>28</td>\n",
       "      <td>10</td>\n",
       "      <td>-3</td>\n",
       "      <td>88</td>\n",
       "      <td>70</td>\n",
       "      <td>51</td>\n",
       "      <td>...</td>\n",
       "      <td>10</td>\n",
       "      <td>8</td>\n",
       "      <td>1</td>\n",
       "      <td>37</td>\n",
       "      <td>22</td>\n",
       "      <td>47.0</td>\n",
       "      <td>0.01</td>\n",
       "      <td>6</td>\n",
       "      <td>Snow</td>\n",
       "      <td>274</td>\n",
       "    </tr>\n",
       "  </tbody>\n",
       "</table>\n",
       "<p>5 rows × 23 columns</p>\n",
       "</div>"
      ],
      "text/plain": [
       "           EST  Max TemperatureF  Mean TemperatureF  Min TemperatureF  \\\n",
       "6480  2015-1-1                34               27.0                20   \n",
       "6481  2015-1-2                31               23.0                15   \n",
       "6482  2015-1-3                40               28.0                15   \n",
       "6483  2015-1-4                55               44.0                33   \n",
       "6484  2015-1-5                33               22.0                10   \n",
       "\n",
       "      Max Dew PointF  MeanDew PointF  Min DewpointF  Max Humidity  \\\n",
       "6480              25              13              8            91   \n",
       "6481              26              23             15           100   \n",
       "6482              37              23             15           100   \n",
       "6483              51              39             27           100   \n",
       "6484              28              10             -3            88   \n",
       "\n",
       "      Mean Humidity  Min Humidity      ...        Max VisibilityMiles  \\\n",
       "6480             64            36      ...                         10   \n",
       "6481             82            63      ...                         10   \n",
       "6482             87            74      ...                         10   \n",
       "6483             88            76      ...                         10   \n",
       "6484             70            51      ...                         10   \n",
       "\n",
       "      Mean VisibilityMiles  Min VisibilityMiles  Max Wind SpeedMPH  \\\n",
       "6480                     8                    1                 28   \n",
       "6481                     4                    0                 22   \n",
       "6482                     6                    1                 21   \n",
       "6483                    10                    7                 35   \n",
       "6484                     8                    1                 37   \n",
       "\n",
       "      Mean Wind SpeedMPH  Max Gust SpeedMPH  PrecipitationIn  CloudCover  \\\n",
       "6480                  12               33.0             0.01           8   \n",
       "6481                   9               28.0             0.03           8   \n",
       "6482                  10               29.0             0.97           8   \n",
       "6483                  13               45.0             0.03           8   \n",
       "6484                  22               47.0             0.01           6   \n",
       "\n",
       "         Events WindDirDegrees  \n",
       "6480       Snow            248  \n",
       "6481   Fog-Snow            285  \n",
       "6482  Rain-Snow             84  \n",
       "6483  Rain-Snow            259  \n",
       "6484       Snow            274  \n",
       "\n",
       "[5 rows x 23 columns]"
      ]
     },
     "execution_count": 15,
     "metadata": {},
     "output_type": "execute_result"
    }
   ],
   "source": [
    "cuse_weather_df = pd.read_csv('https://raw.githubusercontent.com/mafudge/datasets/master/weather/syracuse-ny.csv')\n",
    "cuse_weather_df = cuse_weather_df[ cuse_weather_df['EST'].str.startswith('2015-')] \n",
    "cuse_weather_df.head(5)"
   ]
  },
  {
   "cell_type": "code",
   "execution_count": 16,
   "metadata": {},
   "outputs": [
    {
     "data": {
      "text/html": [
       "<iframe id=\"igraph\" scrolling=\"no\" style=\"border:none;\" seamless=\"seamless\" src=\"https://plot.ly/~mafudge73fc/280.embed\" height=\"525px\" width=\"100%\"></iframe>"
      ],
      "text/plain": [
       "<plotly.tools.PlotlyDisplay object>"
      ]
     },
     "execution_count": 16,
     "metadata": {},
     "output_type": "execute_result"
    }
   ],
   "source": [
    "r = dict(color='red')\n",
    "g = dict(color='green')\n",
    "b = dict(color='blue')\n",
    "grade_data = [\n",
    "    go.Scatter(x=cuse_weather_df['EST'], y=cuse_weather_df['Max TemperatureF'], mode=\"lines\", name=\"Max Temp\", marker=r),\n",
    "    go.Scatter(x=cuse_weather_df['EST'], y=cuse_weather_df['Mean TemperatureF'], mode=\"lines+markers\", name=\"Mean Temp\", marker=g),\n",
    "    go.Scatter(x=cuse_weather_df['EST'], y=cuse_weather_df['Min TemperatureF'], mode=\"lines\", name=\"Min Temp\", marker=b)\n",
    "]\n",
    "\n",
    "py.iplot({ 'data': grade_data,\n",
    "            'layout': {\n",
    "               'title': 'Syracuse Weather 2015',\n",
    "               'xaxis': {\n",
    "                 'title': 'Day of the Year'},\n",
    "               'yaxis': {\n",
    "                'title': 'Temperature Deg F'}\n",
    "        }})"
   ]
  },
  {
   "cell_type": "markdown",
   "metadata": {},
   "source": [
    "Here's another example with the Exam Scores Dataset. Shows you how much more expressive plot.ly can be."
   ]
  },
  {
   "cell_type": "code",
   "execution_count": 17,
   "metadata": {},
   "outputs": [
    {
     "data": {
      "text/html": [
       "<div>\n",
       "<style scoped>\n",
       "    .dataframe tbody tr th:only-of-type {\n",
       "        vertical-align: middle;\n",
       "    }\n",
       "\n",
       "    .dataframe tbody tr th {\n",
       "        vertical-align: top;\n",
       "    }\n",
       "\n",
       "    .dataframe thead th {\n",
       "        text-align: right;\n",
       "    }\n",
       "</style>\n",
       "<table border=\"1\" class=\"dataframe\">\n",
       "  <thead>\n",
       "    <tr style=\"text-align: right;\">\n",
       "      <th></th>\n",
       "      <th>Class_Section</th>\n",
       "      <th>Exam_Version</th>\n",
       "      <th>Completion_Time</th>\n",
       "      <th>Made_Own_Study_Guide</th>\n",
       "      <th>Did_Exam_Prep Assignment</th>\n",
       "      <th>Studied_In_Groups</th>\n",
       "      <th>Student_Score</th>\n",
       "      <th>Percentage</th>\n",
       "      <th>Letter_Grade</th>\n",
       "    </tr>\n",
       "  </thead>\n",
       "  <tbody>\n",
       "    <tr>\n",
       "      <th>23</th>\n",
       "      <td>M01</td>\n",
       "      <td>D</td>\n",
       "      <td>35</td>\n",
       "      <td>?</td>\n",
       "      <td>?</td>\n",
       "      <td>?</td>\n",
       "      <td>13</td>\n",
       "      <td>43.30%</td>\n",
       "      <td>F</td>\n",
       "    </tr>\n",
       "    <tr>\n",
       "      <th>8</th>\n",
       "      <td>M01</td>\n",
       "      <td>B</td>\n",
       "      <td>20</td>\n",
       "      <td>N</td>\n",
       "      <td>N</td>\n",
       "      <td>Y</td>\n",
       "      <td>13</td>\n",
       "      <td>43.30%</td>\n",
       "      <td>F</td>\n",
       "    </tr>\n",
       "    <tr>\n",
       "      <th>21</th>\n",
       "      <td>M01</td>\n",
       "      <td>D</td>\n",
       "      <td>25</td>\n",
       "      <td>N</td>\n",
       "      <td>N</td>\n",
       "      <td>Y</td>\n",
       "      <td>15</td>\n",
       "      <td>50.00%</td>\n",
       "      <td>D</td>\n",
       "    </tr>\n",
       "    <tr>\n",
       "      <th>29</th>\n",
       "      <td>M02</td>\n",
       "      <td>A</td>\n",
       "      <td>20</td>\n",
       "      <td>N</td>\n",
       "      <td>N</td>\n",
       "      <td>N</td>\n",
       "      <td>16</td>\n",
       "      <td>53.30%</td>\n",
       "      <td>D</td>\n",
       "    </tr>\n",
       "    <tr>\n",
       "      <th>52</th>\n",
       "      <td>M02</td>\n",
       "      <td>C</td>\n",
       "      <td>40</td>\n",
       "      <td>Y</td>\n",
       "      <td>Y</td>\n",
       "      <td>N</td>\n",
       "      <td>16</td>\n",
       "      <td>53.30%</td>\n",
       "      <td>D</td>\n",
       "    </tr>\n",
       "    <tr>\n",
       "      <th>56</th>\n",
       "      <td>M02</td>\n",
       "      <td>C</td>\n",
       "      <td>60</td>\n",
       "      <td>N</td>\n",
       "      <td>N</td>\n",
       "      <td>Y</td>\n",
       "      <td>16</td>\n",
       "      <td>53.30%</td>\n",
       "      <td>D</td>\n",
       "    </tr>\n",
       "  </tbody>\n",
       "</table>\n",
       "</div>"
      ],
      "text/plain": [
       "   Class_Section Exam_Version  Completion_Time Made_Own_Study_Guide  \\\n",
       "23           M01            D               35                    ?   \n",
       "8            M01            B               20                    N   \n",
       "21           M01            D               25                    N   \n",
       "29           M02            A               20                    N   \n",
       "52           M02            C               40                    Y   \n",
       "56           M02            C               60                    N   \n",
       "\n",
       "   Did_Exam_Prep Assignment Studied_In_Groups  Student_Score Percentage  \\\n",
       "23                        ?                 ?             13     43.30%   \n",
       "8                         N                 Y             13     43.30%   \n",
       "21                        N                 Y             15     50.00%   \n",
       "29                        N                 N             16     53.30%   \n",
       "52                        Y                 N             16     53.30%   \n",
       "56                        N                 Y             16     53.30%   \n",
       "\n",
       "   Letter_Grade  \n",
       "23            F  \n",
       "8             F  \n",
       "21            D  \n",
       "29            D  \n",
       "52            D  \n",
       "56            D  "
      ]
     },
     "execution_count": 17,
     "metadata": {},
     "output_type": "execute_result"
    }
   ],
   "source": [
    "scores_df = pd.read_csv('https://raw.githubusercontent.com/mafudge/datasets/master/exam-scores/exam-scores.csv')\n",
    "scores_df = scores_df.sort_values(by='Student_Score')\n",
    "scores_df[0:6]"
   ]
  },
  {
   "cell_type": "code",
   "execution_count": 18,
   "metadata": {
    "scrolled": false
   },
   "outputs": [
    {
     "data": {
      "text/html": [
       "<iframe id=\"igraph\" scrolling=\"no\" style=\"border:none;\" seamless=\"seamless\" src=\"https://plot.ly/~mafudge73fc/282.embed\" height=\"525px\" width=\"100%\"></iframe>"
      ],
      "text/plain": [
       "<plotly.tools.PlotlyDisplay object>"
      ]
     },
     "execution_count": 18,
     "metadata": {},
     "output_type": "execute_result"
    }
   ],
   "source": [
    "grade_data = [\n",
    "    go.Scatter(x=scores_df['Letter_Grade'], y=scores_df['Completion_Time'], mode=\"markers\", \n",
    "               marker= { 'size': scores_df['Student_Score'], 'sizemode' : 'diameter', 'sizeref' : 1.0})\n",
    "]\n",
    "\n",
    "py.iplot({ 'data': grade_data,\n",
    "            'layout': {\n",
    "               'title': 'Exam Grades',\n",
    "               'xaxis': {\n",
    "                 'title': 'Letter Grade'},\n",
    "               'yaxis': {\n",
    "                'title': 'Time To Complete Exam'}\n",
    "        }})"
   ]
  },
  {
   "cell_type": "code",
   "execution_count": null,
   "metadata": {},
   "outputs": [],
   "source": [
    "grade_data = [\n",
    "    go.Heatmap(x=scores_df['Exam_Version'], y=scores_df['Completion_Time'], z=scores_df['Student_Score'])\n",
    "]\n",
    "\n",
    "py.iplot({ 'data': grade_data,\n",
    "            'layout': {\n",
    "               'title': 'Exam Grades Heat Map',\n",
    "               'xaxis': {\n",
    "                 'title': 'Exam Version'},\n",
    "               'yaxis': {\n",
    "                 'title': 'Time To Complete Exam'}           \n",
    "        }})"
   ]
  },
  {
   "cell_type": "code",
   "execution_count": null,
   "metadata": {},
   "outputs": [],
   "source": [
    "# A manual sample, showing you don't need to use Pandas at all.\n",
    "\n",
    "trace0 = go.Scatter(\n",
    "    x=[1,2,3,4,5,6,7,8],\n",
    "    y=[10, 15, 13, 17, 15, 12, 10, 18],\n",
    "    mode = \"markers\",\n",
    "    name = \"series 2\"\n",
    ")\n",
    "trace1 = go.Scatter(\n",
    "    x=[1,2,3,4,5,6,7,8],\n",
    "    y=[16, 5, 11, 9, 16, 10, 14, 12],\n",
    "    mode=\"line\",\n",
    "    name = \"series 1\"\n",
    ")\n",
    "data = go.Data([trace0, trace1])\n",
    "\n",
    "py.iplot({ 'data': data,\n",
    "            'layout': {\n",
    "               'title': 'Sample Chart',\n",
    "               'xaxis': {\n",
    "                 'title': 'X Axis'},\n",
    "               'yaxis': {\n",
    "                 'title': 'Y Axis'}            \n",
    "        }})"
   ]
  },
  {
   "cell_type": "code",
   "execution_count": 8,
   "metadata": {},
   "outputs": [
    {
     "ename": "AttributeError",
     "evalue": "'Pie' object has no attribute 'items'",
     "output_type": "error",
     "traceback": [
      "\u001b[1;31m---------------------------------------------------------------------------\u001b[0m",
      "\u001b[1;31mAttributeError\u001b[0m                            Traceback (most recent call last)",
      "\u001b[1;32m<ipython-input-8-c4d403ee16a3>\u001b[0m in \u001b[0;36m<module>\u001b[1;34m()\u001b[0m\n\u001b[0;32m      1\u001b[0m \u001b[0mpie\u001b[0m\u001b[1;33m=\u001b[0m\u001b[0mcf\u001b[0m\u001b[1;33m.\u001b[0m\u001b[0mdatagen\u001b[0m\u001b[1;33m.\u001b[0m\u001b[0mpie\u001b[0m\u001b[1;33m(\u001b[0m\u001b[1;33m)\u001b[0m\u001b[1;33m\u001b[0m\u001b[0m\n\u001b[1;32m----> 2\u001b[1;33m \u001b[0mpie\u001b[0m\u001b[1;33m.\u001b[0m\u001b[0miplot\u001b[0m\u001b[1;33m(\u001b[0m\u001b[0mkind\u001b[0m\u001b[1;33m=\u001b[0m\u001b[1;34m'pie'\u001b[0m\u001b[1;33m,\u001b[0m \u001b[0mlabels\u001b[0m\u001b[1;33m=\u001b[0m\u001b[1;34m'labels'\u001b[0m\u001b[1;33m,\u001b[0m \u001b[0mvalues\u001b[0m\u001b[1;33m=\u001b[0m\u001b[1;34m'values'\u001b[0m\u001b[1;33m)\u001b[0m\u001b[1;33m\u001b[0m\u001b[0m\n\u001b[0m",
      "\u001b[1;32mc:\\users\\mafudge\\appdata\\local\\programs\\python\\python36\\lib\\site-packages\\cufflinks\\plotlytools.py\u001b[0m in \u001b[0;36m_iplot\u001b[1;34m(self, kind, data, layout, filename, sharing, title, xTitle, yTitle, zTitle, theme, colors, colorscale, fill, width, dash, mode, interpolation, symbol, size, barmode, sortbars, bargap, bargroupgap, bins, histnorm, histfunc, orientation, boxpoints, annotations, keys, bestfit, bestfit_colors, mean, mean_colors, categories, x, y, z, text, gridcolor, zerolinecolor, margin, labels, values, secondary_y, secondary_y_title, subplots, shape, error_x, error_y, error_type, locations, lon, lat, asFrame, asDates, asFigure, asImage, dimensions, asPlot, asUrl, online, **kwargs)\u001b[0m\n\u001b[0;32m   1193\u001b[0m \t\treturn iplot(figure,validate=validate,sharing=sharing,filename=filename,\n\u001b[0;32m   1194\u001b[0m                          \u001b[0monline\u001b[0m\u001b[1;33m=\u001b[0m\u001b[0monline\u001b[0m\u001b[1;33m,\u001b[0m\u001b[0masImage\u001b[0m\u001b[1;33m=\u001b[0m\u001b[0masImage\u001b[0m\u001b[1;33m,\u001b[0m\u001b[0masUrl\u001b[0m\u001b[1;33m=\u001b[0m\u001b[0masUrl\u001b[0m\u001b[1;33m,\u001b[0m\u001b[0masPlot\u001b[0m\u001b[1;33m=\u001b[0m\u001b[0masPlot\u001b[0m\u001b[1;33m,\u001b[0m\u001b[1;33m\u001b[0m\u001b[0m\n\u001b[1;32m-> 1195\u001b[1;33m \t\t\t dimensions=dimensions,display_image=kwargs.get('display_image',True))\n\u001b[0m\u001b[0;32m   1196\u001b[0m \u001b[1;33m\u001b[0m\u001b[0m\n\u001b[0;32m   1197\u001b[0m \u001b[1;33m\u001b[0m\u001b[0m\n",
      "\u001b[1;32mc:\\users\\mafudge\\appdata\\local\\programs\\python\\python36\\lib\\site-packages\\cufflinks\\plotlytools.py\u001b[0m in \u001b[0;36miplot\u001b[1;34m(figure, validate, sharing, filename, online, asImage, asUrl, asPlot, dimensions, display_image, **kwargs)\u001b[0m\n\u001b[0;32m   1438\u001b[0m         \u001b[1;32melse\u001b[0m\u001b[1;33m:\u001b[0m\u001b[1;33m\u001b[0m\u001b[0m\n\u001b[0;32m   1439\u001b[0m \t\treturn py.iplot(figure,validate=validate,sharing=sharing,\n\u001b[1;32m-> 1440\u001b[1;33m \t\t\t\t\t\tfilename=filename)\n\u001b[0m\u001b[0;32m   1441\u001b[0m \u001b[1;33m\u001b[0m\u001b[0m\n\u001b[0;32m   1442\u001b[0m \u001b[1;33m\u001b[0m\u001b[0m\n",
      "\u001b[1;32mc:\\users\\mafudge\\appdata\\local\\programs\\python\\python36\\lib\\site-packages\\plotly\\plotly\\plotly.py\u001b[0m in \u001b[0;36miplot\u001b[1;34m(figure_or_data, **plot_options)\u001b[0m\n\u001b[0;32m    140\u001b[0m     \u001b[1;32mif\u001b[0m \u001b[1;34m'auto_open'\u001b[0m \u001b[1;32mnot\u001b[0m \u001b[1;32min\u001b[0m \u001b[0mplot_options\u001b[0m\u001b[1;33m:\u001b[0m\u001b[1;33m\u001b[0m\u001b[0m\n\u001b[0;32m    141\u001b[0m         \u001b[0mplot_options\u001b[0m\u001b[1;33m[\u001b[0m\u001b[1;34m'auto_open'\u001b[0m\u001b[1;33m]\u001b[0m \u001b[1;33m=\u001b[0m \u001b[1;32mFalse\u001b[0m\u001b[1;33m\u001b[0m\u001b[0m\n\u001b[1;32m--> 142\u001b[1;33m     \u001b[0murl\u001b[0m \u001b[1;33m=\u001b[0m \u001b[0mplot\u001b[0m\u001b[1;33m(\u001b[0m\u001b[0mfigure_or_data\u001b[0m\u001b[1;33m,\u001b[0m \u001b[1;33m**\u001b[0m\u001b[0mplot_options\u001b[0m\u001b[1;33m)\u001b[0m\u001b[1;33m\u001b[0m\u001b[0m\n\u001b[0m\u001b[0;32m    143\u001b[0m \u001b[1;33m\u001b[0m\u001b[0m\n\u001b[0;32m    144\u001b[0m     \u001b[1;32mif\u001b[0m \u001b[0misinstance\u001b[0m\u001b[1;33m(\u001b[0m\u001b[0mfigure_or_data\u001b[0m\u001b[1;33m,\u001b[0m \u001b[0mdict\u001b[0m\u001b[1;33m)\u001b[0m\u001b[1;33m:\u001b[0m\u001b[1;33m\u001b[0m\u001b[0m\n",
      "\u001b[1;32mc:\\users\\mafudge\\appdata\\local\\programs\\python\\python36\\lib\\site-packages\\plotly\\plotly\\plotly.py\u001b[0m in \u001b[0;36mplot\u001b[1;34m(figure_or_data, validate, **plot_options)\u001b[0m\n\u001b[0;32m    209\u001b[0m         \u001b[1;32mif\u001b[0m \u001b[1;33m(\u001b[0m\u001b[1;34m'type'\u001b[0m \u001b[1;32min\u001b[0m \u001b[0mentry\u001b[0m\u001b[1;33m)\u001b[0m \u001b[1;32mand\u001b[0m \u001b[1;33m(\u001b[0m\u001b[0mentry\u001b[0m\u001b[1;33m[\u001b[0m\u001b[1;34m'type'\u001b[0m\u001b[1;33m]\u001b[0m \u001b[1;33m==\u001b[0m \u001b[1;34m'scattergl'\u001b[0m\u001b[1;33m)\u001b[0m\u001b[1;33m:\u001b[0m\u001b[1;33m\u001b[0m\u001b[0m\n\u001b[0;32m    210\u001b[0m             \u001b[1;32mcontinue\u001b[0m\u001b[1;33m\u001b[0m\u001b[0m\n\u001b[1;32m--> 211\u001b[1;33m         \u001b[1;32mfor\u001b[0m \u001b[0mkey\u001b[0m\u001b[1;33m,\u001b[0m \u001b[0mval\u001b[0m \u001b[1;32min\u001b[0m \u001b[0mlist\u001b[0m\u001b[1;33m(\u001b[0m\u001b[0mentry\u001b[0m\u001b[1;33m.\u001b[0m\u001b[0mitems\u001b[0m\u001b[1;33m(\u001b[0m\u001b[1;33m)\u001b[0m\u001b[1;33m)\u001b[0m\u001b[1;33m:\u001b[0m\u001b[1;33m\u001b[0m\u001b[0m\n\u001b[0m\u001b[0;32m    212\u001b[0m             \u001b[1;32mtry\u001b[0m\u001b[1;33m:\u001b[0m\u001b[1;33m\u001b[0m\u001b[0m\n\u001b[0;32m    213\u001b[0m                 \u001b[1;32mif\u001b[0m \u001b[0mlen\u001b[0m\u001b[1;33m(\u001b[0m\u001b[0mval\u001b[0m\u001b[1;33m)\u001b[0m \u001b[1;33m>\u001b[0m \u001b[1;36m40000\u001b[0m\u001b[1;33m:\u001b[0m\u001b[1;33m\u001b[0m\u001b[0m\n",
      "\u001b[1;31mAttributeError\u001b[0m: 'Pie' object has no attribute 'items'"
     ]
    }
   ],
   "source": [
    "pie=cf.datagen.pie()\n",
    "pie.iplot(kind='pie', labels='labels', values='values')"
   ]
  },
  {
   "cell_type": "code",
   "execution_count": null,
   "metadata": {},
   "outputs": [],
   "source": []
  }
 ],
 "metadata": {
  "anaconda-cloud": {},
  "kernelspec": {
   "display_name": "Python 3",
   "language": "python",
   "name": "python3"
  },
  "language_info": {
   "codemirror_mode": {
    "name": "ipython",
    "version": 3
   },
   "file_extension": ".py",
   "mimetype": "text/x-python",
   "name": "python",
   "nbconvert_exporter": "python",
   "pygments_lexer": "ipython3",
   "version": "3.6.6"
  }
 },
 "nbformat": 4,
 "nbformat_minor": 1
}
