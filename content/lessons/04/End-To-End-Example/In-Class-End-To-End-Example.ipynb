{
 "cells": [
  {
   "cell_type": "markdown",
   "metadata": {},
   "source": [
    "# End-To-End-Example: Fudgebonia Taxes\n",
    "\n",
    "The country of “Fudgebonia” determines your tax rate from the number of dependents:\n",
    "\n",
    "- 0 is 30%\n",
    "- 1 is 25% \n",
    "- 2 is 18% \n",
    "- 3 or more is 10%  \n",
    "\n",
    "Write a program to prompt for number of dependents (0-3) and annual income.\n",
    "\n",
    "It should then calculate your tax rate and tax bill. Format numbers properly! Handle bad input!\n"
   ]
  },
  {
   "cell_type": "markdown",
   "metadata": {
    "collapsed": true
   },
   "source": [
    "## Input / Process / Output\n",
    "\n"
   ]
  },
  {
   "cell_type": "code",
   "execution_count": 17,
   "metadata": {},
   "outputs": [
    {
     "name": "stdout",
     "output_type": "stream",
     "text": [
      "Enter the number of dependents: -10\n",
      "Enter your annual income: sdjkfhgflsdjklfg\n",
      "You did not enter a number for Dependents or Income\n"
     ]
    }
   ],
   "source": [
    "try:\n",
    "    deps =int(input(\"Enter the number of dependents: \"))\n",
    "    income = float(input(\"Enter your annual income: \"))\n",
    "    if deps < 0 or income < 0:\n",
    "        print(\"Those are not acceptable values for dependents or income.\")\n",
    "    else:\n",
    "        if deps == 0:\n",
    "            tax_rate = .30\n",
    "        elif deps == 1:\n",
    "            tax_rate = .25\n",
    "        elif deps == 2:\n",
    "            tax_rate = .18\n",
    "        else:\n",
    "            tax_rate = .1\n",
    "        print(\"For %d dependents your Fudgebonia Tax Rate is %.2f\" % (deps, tax_rate) )\n",
    "        tax = income * tax_rate\n",
    "        print(\"You must pay $ %.2f in taxes\" % tax)\n",
    "except ValueError:\n",
    "    print(\"You did not enter a number for Dependents or Income\")"
   ]
  },
  {
   "cell_type": "code",
   "execution_count": 16,
   "metadata": {},
   "outputs": [],
   "source": [
    "## Re-write to handle bad input. this should always be a re-write and never attempt in one try.\n"
   ]
  },
  {
   "cell_type": "code",
   "execution_count": 3,
   "metadata": {},
   "outputs": [],
   "source": [
    "## Re-write to handle dependents < 0\n"
   ]
  }
 ],
 "metadata": {
  "anaconda-cloud": {},
  "kernelspec": {
   "display_name": "Python 3",
   "language": "python",
   "name": "python3"
  },
  "language_info": {
   "codemirror_mode": {
    "name": "ipython",
    "version": 3
   },
   "file_extension": ".py",
   "mimetype": "text/x-python",
   "name": "python",
   "nbconvert_exporter": "python",
   "pygments_lexer": "ipython3",
   "version": "3.6.6"
  }
 },
 "nbformat": 4,
 "nbformat_minor": 1
}
