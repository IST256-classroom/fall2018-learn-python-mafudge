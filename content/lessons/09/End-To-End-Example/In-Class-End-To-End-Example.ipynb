{
 "cells": [
  {
   "cell_type": "markdown",
   "metadata": {},
   "source": [
    "# End-To-End Example: Bad Password Checker\n",
    "\n",
    "- Read in list of bad passwords from file `bad-passwords.txt`\n",
    "- Main program loop which:\n",
    "  - inputs a password \n",
    "  - checks whether the password  is \"good\" or \"bad\" by checking against the list\n",
    "  - repeats this until you enter an empty password. "
   ]
  },
  {
   "cell_type": "code",
   "execution_count": null,
   "metadata": {},
   "outputs": [],
   "source": []
  }
 ],
 "metadata": {
  "kernelspec": {
   "display_name": "Python 3",
   "language": "python",
   "name": "python3"
  },
  "language_info": {
   "codemirror_mode": {
    "name": "ipython",
    "version": 3
   },
   "file_extension": ".py",
   "mimetype": "text/x-python",
   "name": "python",
   "nbconvert_exporter": "python",
   "pygments_lexer": "ipython3",
   "version": "3.6.6"
  }
 },
 "nbformat": 4,
 "nbformat_minor": 2
}
