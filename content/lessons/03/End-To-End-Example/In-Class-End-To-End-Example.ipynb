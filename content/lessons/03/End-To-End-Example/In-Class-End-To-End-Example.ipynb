{
 "cells": [
  {
   "cell_type": "markdown",
   "metadata": {},
   "source": [
    "# End-To-End Example: Pay Rate Calculator\n",
    "Write a program to prompt for inputs hourly rate and hours worked, then output total pay. Then input tax rate and output net pay.\n",
    "\n",
    "Procedure:\n",
    "\n",
    "- write to do list\n",
    "- write initial code\n",
    "- re-write code to be better"
   ]
  },
  {
   "cell_type": "markdown",
   "metadata": {},
   "source": [
    "Inputs: hourly rate, hours worked, tax rate\n",
    "    \n",
    "Outputs: gross pay,  tax, net pay\n",
    "    \n",
    "Process:\n",
    "\n",
    "1. input hourly rate\n",
    "2. input hours worked\n",
    "3. calculate the gross pay: hourly rate * hours worked\n",
    "4. input tax rate\n",
    "5. calculate the tax: gross pay * tax rate\n",
    "6. calculate the net: pay gross pay - tax\n",
    "7. print gross pay, tax, net pay."
   ]
  },
  {
   "cell_type": "code",
   "execution_count": 8,
   "metadata": {},
   "outputs": [
    {
     "name": "stdout",
     "output_type": "stream",
     "text": [
      "Mike's Tax Calculator\n",
      "Enter Hourly Rate: 10\n",
      "Enter Hours Worked: 10\n",
      "Enter Tax Rate as a whole number e.g. 10: 25\n",
      "Gross Pay: $100.00\n",
      "Tax      : $25.00\n",
      "Net Pay  : $75.00\n"
     ]
    }
   ],
   "source": [
    "print(\"Mike's Tax Calculator\")\n",
    "hourly_rate = float(input(\"Enter Hourly Rate: \"))\n",
    "hours_worked = float(input(\"Enter Hours Worked: \"))\n",
    "gross_pay = hourly_rate * hours_worked\n",
    "tax_rate = float(input(\"Enter Tax Rate as a whole number e.g. 10: \"))\n",
    "tax = gross_pay * tax_rate/100\n",
    "net_pay = gross_pay - tax\n",
    "print(\"Gross Pay: $%.2f\" % gross_pay)\n",
    "print(\"Tax      : $%.2f\" % tax)\n",
    "print(\"Net Pay  : $%.2f\" % net_pay)\n"
   ]
  },
  {
   "cell_type": "code",
   "execution_count": 2,
   "metadata": {},
   "outputs": [
    {
     "data": {
      "text/plain": [
       "str"
      ]
     },
     "execution_count": 2,
     "metadata": {},
     "output_type": "execute_result"
    }
   ],
   "source": [
    "type(hours_worked)"
   ]
  },
  {
   "cell_type": "code",
   "execution_count": null,
   "metadata": {},
   "outputs": [],
   "source": []
  }
 ],
 "metadata": {
  "kernelspec": {
   "display_name": "Python 3",
   "language": "python",
   "name": "python3"
  },
  "language_info": {
   "codemirror_mode": {
    "name": "ipython",
    "version": 3
   },
   "file_extension": ".py",
   "mimetype": "text/x-python",
   "name": "python",
   "nbconvert_exporter": "python",
   "pygments_lexer": "ipython3",
   "version": "3.6.6"
  }
 },
 "nbformat": 4,
 "nbformat_minor": 2
}
