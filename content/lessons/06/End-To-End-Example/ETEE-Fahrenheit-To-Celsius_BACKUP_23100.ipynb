{
 "cells": [
  {
   "cell_type": "markdown",
   "metadata": {},
   "source": [
    "# End-To-End Example: Temperature Conversions \n",
    "\n",
    "First we will write two conversion functions:\n",
    "\n",
    "- f2c convert Fahrenheit temperature to Celsius\n",
    "- c2f convert Celsius temperature to Fahrenheit\n",
    "\n",
    "Next, we'll test the functions by calling them. Once they're correct we will write our program to input a temperature and units, then convert to the other unit. "
   ]
  },
  {
   "cell_type": "code",
   "execution_count": 2,
   "metadata": {},
   "outputs": [
    {
     "name": "stdout",
     "output_type": "stream",
     "text": [
      "f2c when f = 32 expect f2c(32) = 0 actual  0.0\n",
      "f2c when f = 212 expect 100 c actual 100.0\n"
     ]
    }
   ],
   "source": [
    "## function f2c\n",
    "# argument: temp in F\n",
    "# return temp in C\n",
    "\n",
    "def f2c( temp_f ):\n",
    "    temp_c = (temp_f - 32) * 5/9\n",
    "    return temp_c\n",
    "\n",
    "print(\"f2c when f = 32 expect f2c(32) = 0 actual \", f2c(32))\n",
    "print(\"f2c when f = 212 expect 100 c actual\", f2c(212))"
   ]
  },
  {
   "cell_type": "code",
<<<<<<< HEAD
   "execution_count": 4,
=======
   "execution_count": 3,
>>>>>>> d601c1cfbe9a97ced739a17fa12a11184fac68b2
   "metadata": {},
   "outputs": [
    {
     "name": "stdout",
     "output_type": "stream",
     "text": [
      "c2f when c = 0 expect 32 actual 32.0\n"
     ]
    }
   ],
   "source": [
    "## function c2f\n",
    "# argument : temp in C\n",
    "# return: temp in F\n",
    "def c2f( temp_c ):\n",
    "    temp_f = (temp_c * 9/5) + 32\n",
    "    return temp_f\n",
    "\n",
    "print(\"c2f when c = 0 expect 32 actual\", c2f(0))\n"
   ]
  },
  {
   "cell_type": "code",
<<<<<<< HEAD
   "execution_count": 11,
=======
   "execution_count": 4,
>>>>>>> d601c1cfbe9a97ced739a17fa12a11184fac68b2
   "metadata": {},
   "outputs": [
    {
     "name": "stdout",
     "output_type": "stream",
     "text": [
      "Convert to C? F? or type done if done. f\n",
      "Enter temperature in C: 34\n",
      "34.00 in C is 93.20 in F\n",
      "Convert to C? F? or type done if done. done\n"
     ]
    }
   ],
   "source": [
    "while True:\n",
    "    command = input(\"Convert to C? F? or type done if done. \").lower()\n",
    "    if command == 'done':\n",
    "        break\n",
    "    if command == 'c':\n",
    "        temp_f = float(input(\"Enter temperature in F: \"))\n",
    "        temp_c = f2c(temp_f)\n",
    "        print(\"%.2f in F is %.2f in C\" % (temp_f, temp_c))\n",
    "    elif command == 'f':\n",
    "        temp_c = float(input(\"Enter temperature in C: \"))\n",
    "        temp_f = c2f(temp_c)\n",
    "        print(\"%.2f in C is %.2f in F\" % (temp_c, temp_f))\n",
    "    else:\n",
    "        print(\"Invalid Command!\")\n"
   ]
  },
  {
   "cell_type": "code",
   "execution_count": null,
   "metadata": {},
   "outputs": [],
   "source": []
  }
 ],
 "metadata": {
  "anaconda-cloud": {},
  "kernelspec": {
   "display_name": "Python 3",
   "language": "python",
   "name": "python3"
  },
  "language_info": {
   "codemirror_mode": {
    "name": "ipython",
    "version": 3
   },
   "file_extension": ".py",
   "mimetype": "text/x-python",
   "name": "python",
   "nbconvert_exporter": "python",
   "pygments_lexer": "ipython3",
<<<<<<< HEAD
   "version": "3.6.5"
=======
   "version": "3.6.6"
>>>>>>> d601c1cfbe9a97ced739a17fa12a11184fac68b2
  }
 },
 "nbformat": 4,
 "nbformat_minor": 1
}
