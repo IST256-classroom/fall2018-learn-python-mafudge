{
 "cells": [
  {
   "cell_type": "code",
   "execution_count": 1,
   "metadata": {},
   "outputs": [],
   "source": [
    "import math"
   ]
  },
  {
   "cell_type": "code",
   "execution_count": 2,
   "metadata": {},
   "outputs": [
    {
     "data": {
      "text/plain": [
       "['__doc__',\n",
       " '__loader__',\n",
       " '__name__',\n",
       " '__package__',\n",
       " '__spec__',\n",
       " 'acos',\n",
       " 'acosh',\n",
       " 'asin',\n",
       " 'asinh',\n",
       " 'atan',\n",
       " 'atan2',\n",
       " 'atanh',\n",
       " 'ceil',\n",
       " 'copysign',\n",
       " 'cos',\n",
       " 'cosh',\n",
       " 'degrees',\n",
       " 'e',\n",
       " 'erf',\n",
       " 'erfc',\n",
       " 'exp',\n",
       " 'expm1',\n",
       " 'fabs',\n",
       " 'factorial',\n",
       " 'floor',\n",
       " 'fmod',\n",
       " 'frexp',\n",
       " 'fsum',\n",
       " 'gamma',\n",
       " 'gcd',\n",
       " 'hypot',\n",
       " 'inf',\n",
       " 'isclose',\n",
       " 'isfinite',\n",
       " 'isinf',\n",
       " 'isnan',\n",
       " 'ldexp',\n",
       " 'lgamma',\n",
       " 'log',\n",
       " 'log10',\n",
       " 'log1p',\n",
       " 'log2',\n",
       " 'modf',\n",
       " 'nan',\n",
       " 'pi',\n",
       " 'pow',\n",
       " 'radians',\n",
       " 'sin',\n",
       " 'sinh',\n",
       " 'sqrt',\n",
       " 'tan',\n",
       " 'tanh',\n",
       " 'tau',\n",
       " 'trunc']"
      ]
     },
     "execution_count": 2,
     "metadata": {},
     "output_type": "execute_result"
    }
   ],
   "source": [
    "dir(math)"
   ]
  },
  {
   "cell_type": "code",
   "execution_count": 3,
   "metadata": {},
   "outputs": [
    {
     "name": "stdout",
     "output_type": "stream",
     "text": [
      "Help on built-in function factorial in module math:\n",
      "\n",
      "factorial(...)\n",
      "    factorial(x) -> Integral\n",
      "    \n",
      "    Find x!. Raise a ValueError if x is negative or non-integral.\n",
      "\n"
     ]
    }
   ],
   "source": [
    "help(math.factorial)"
   ]
  },
  {
   "cell_type": "code",
   "execution_count": 4,
   "metadata": {},
   "outputs": [
    {
     "data": {
      "text/plain": [
       "24"
      ]
     },
     "execution_count": 4,
     "metadata": {},
     "output_type": "execute_result"
    }
   ],
   "source": [
    "math.factorial(4)"
   ]
  },
  {
   "cell_type": "code",
   "execution_count": 5,
   "metadata": {},
   "outputs": [
    {
     "name": "stdout",
     "output_type": "stream",
     "text": [
      "Collecting translate\n",
      "  Downloading https://files.pythonhosted.org/packages/85/b2/2ea329a07bbc0c7227eef84ca89ffd6895e7ec237d6c0b26574d56103e53/translate-3.5.0-py2.py3-none-any.whl\n",
      "Collecting tox (from translate)\n",
      "  Downloading https://files.pythonhosted.org/packages/96/26/7e466d1b00eff934a9f83cd33027725a9c8bb522307e03499e871d825ffc/tox-3.5.1-py2.py3-none-any.whl (52kB)\n",
      "Collecting pre-commit (from translate)\n",
      "  Downloading https://files.pythonhosted.org/packages/29/2f/0b7a48ce1895ad926c6d69f2e6eab66992ab4d6fd8c7000f2fe34030a36f/pre_commit-1.11.1-py2.py3-none-any.whl (146kB)\n",
      "Requirement already satisfied: click in c:\\users\\mafudge\\appdata\\local\\programs\\python\\python36\\lib\\site-packages (from translate) (6.7)\n",
      "Requirement already satisfied: requests in c:\\users\\mafudge\\appdata\\local\\programs\\python\\python36\\lib\\site-packages (from translate) (2.19.1)\n",
      "Requirement already satisfied: lxml in c:\\users\\mafudge\\appdata\\local\\programs\\python\\python36\\lib\\site-packages (from translate) (4.2.4)\n",
      "Collecting toml>=0.9.4 (from tox->translate)\n",
      "  Downloading https://files.pythonhosted.org/packages/a2/12/ced7105d2de62fa7c8fb5fce92cc4ce66b57c95fb875e9318dba7f8c5db0/toml-0.10.0-py2.py3-none-any.whl\n",
      "Collecting virtualenv>=1.11.2 (from tox->translate)\n",
      "  Downloading https://files.pythonhosted.org/packages/b6/30/96a02b2287098b23b875bc8c2f58071c35d2efe84f747b64d523721dc2b5/virtualenv-16.0.0-py2.py3-none-any.whl (1.9MB)\n",
      "Collecting filelock<4,>=3.0.0 (from tox->translate)\n",
      "  Downloading https://files.pythonhosted.org/packages/b4/fe/5ca16d167849b980925d3bd706cda266c7435dcf21675c546374da207654/filelock-3.0.9-py3-none-any.whl\n",
      "Requirement already satisfied: setuptools>=30.0.0 in c:\\users\\mafudge\\appdata\\local\\programs\\python\\python36\\lib\\site-packages (from tox->translate) (40.2.0)\n",
      "Collecting pluggy<1,>=0.3.0 (from tox->translate)\n",
      "  Downloading https://files.pythonhosted.org/packages/f5/f1/5a93c118663896d83f7bcbfb7f657ce1d0c0d617e6b4a443a53abcc658ca/pluggy-0.7.1-py2.py3-none-any.whl\n",
      "Requirement already satisfied: six<2,>=1.0.0 in c:\\users\\mafudge\\appdata\\local\\programs\\python\\python36\\lib\\site-packages (from tox->translate) (1.11.0)\n",
      "Collecting py<2,>=1.4.17 (from tox->translate)\n",
      "  Downloading https://files.pythonhosted.org/packages/c8/47/d179b80ab1dc1bfd46a0c87e391be47e6c7ef5831a9c138c5c49d1756288/py-1.6.0-py2.py3-none-any.whl (83kB)\n",
      "Collecting cfgv>=1.0.0 (from pre-commit->translate)\n",
      "  Downloading https://files.pythonhosted.org/packages/65/53/049d31c9a486f75326f7431ac2119b1a4549e8db69c6280109e7b1e80b81/cfgv-1.1.0-py2.py3-none-any.whl\n",
      "Collecting aspy.yaml (from pre-commit->translate)\n",
      "  Downloading https://files.pythonhosted.org/packages/9f/e3/5d2ba9d098b687d3676a5a557f7edc15bb544d4c2af9fc7105469d2ba624/aspy.yaml-1.1.1-py2.py3-none-any.whl\n",
      "Collecting nodeenv>=0.11.1 (from pre-commit->translate)\n",
      "  Downloading https://files.pythonhosted.org/packages/36/ca/1a635c6cd6049105fadfdc05c8de364f368fcc7aebad3081dd8ccb0c5c7f/nodeenv-1.3.2.tar.gz\n",
      "Collecting cached-property (from pre-commit->translate)\n",
      "  Downloading https://files.pythonhosted.org/packages/3b/86/85c1be2e8db9e13ef9a350aecd6dea292bd612fa288c2f40d035bb750ded/cached_property-1.5.1-py2.py3-none-any.whl\n",
      "Requirement already satisfied: pyyaml in c:\\users\\mafudge\\appdata\\local\\programs\\python\\python36\\lib\\site-packages (from pre-commit->translate) (3.13)\n",
      "Collecting identify>=1.0.0 (from pre-commit->translate)\n",
      "  Downloading https://files.pythonhosted.org/packages/09/65/75d8f14c096096ddc28f22e701b7fb4d43e9f91596336cc96bdfe2f97c92/identify-1.1.7-py2.py3-none-any.whl\n",
      "Requirement already satisfied: certifi>=2017.4.17 in c:\\users\\mafudge\\appdata\\local\\programs\\python\\python36\\lib\\site-packages (from requests->translate) (2018.8.13)\n",
      "Requirement already satisfied: urllib3<1.24,>=1.21.1 in c:\\users\\mafudge\\appdata\\local\\programs\\python\\python36\\lib\\site-packages (from requests->translate) (1.23)\n",
      "Requirement already satisfied: chardet<3.1.0,>=3.0.2 in c:\\users\\mafudge\\appdata\\local\\programs\\python\\python36\\lib\\site-packages (from requests->translate) (3.0.4)\n",
      "Requirement already satisfied: idna<2.8,>=2.5 in c:\\users\\mafudge\\appdata\\local\\programs\\python\\python36\\lib\\site-packages (from requests->translate) (2.7)\n",
      "Building wheels for collected packages: nodeenv\n",
      "  Running setup.py bdist_wheel for nodeenv: started\n",
      "  Running setup.py bdist_wheel for nodeenv: finished with status 'done'\n",
      "  Stored in directory: C:\\Users\\mafudge\\AppData\\Local\\pip\\Cache\\wheels\\f3\\91\\e8\\836a7b82342fbb2925f1022678a857970820595faae108182f\n",
      "Successfully built nodeenv\n",
      "Installing collected packages: toml, virtualenv, filelock, pluggy, py, tox, cfgv, aspy.yaml, nodeenv, cached-property, identify, pre-commit, translate\n",
      "Successfully installed aspy.yaml-1.1.1 cached-property-1.5.1 cfgv-1.1.0 filelock-3.0.9 identify-1.1.7 nodeenv-1.3.2 pluggy-0.7.1 pre-commit-1.11.1 py-1.6.0 toml-0.10.0 tox-3.5.1 translate-3.5.0 virtualenv-16.0.0\n"
     ]
    },
    {
     "name": "stderr",
     "output_type": "stream",
     "text": [
      "You are using pip version 18.0, however version 18.1 is available.\n",
      "You should consider upgrading via the 'python -m pip install --upgrade pip' command.\n"
     ]
    }
   ],
   "source": [
    "!pip install translate"
   ]
  },
  {
   "cell_type": "code",
   "execution_count": 6,
   "metadata": {},
   "outputs": [],
   "source": [
    "import translate"
   ]
  },
  {
   "cell_type": "code",
   "execution_count": 7,
   "metadata": {},
   "outputs": [
    {
     "data": {
      "text/plain": [
       "['Translator',\n",
       " '__all__',\n",
       " '__builtins__',\n",
       " '__cached__',\n",
       " '__doc__',\n",
       " '__file__',\n",
       " '__loader__',\n",
       " '__name__',\n",
       " '__package__',\n",
       " '__path__',\n",
       " '__spec__',\n",
       " '__version__',\n",
       " 'constants',\n",
       " 'exceptions',\n",
       " 'providers',\n",
       " 'translate',\n",
       " 'version']"
      ]
     },
     "execution_count": 7,
     "metadata": {},
     "output_type": "execute_result"
    }
   ],
   "source": [
    "dir(translate)"
   ]
  },
  {
   "cell_type": "code",
   "execution_count": 8,
   "metadata": {},
   "outputs": [
    {
     "name": "stdout",
     "output_type": "stream",
     "text": [
      "Help on module translate.translate in translate:\n",
      "\n",
      "NAME\n",
      "    translate.translate - # encoding: utf-8\n",
      "\n",
      "CLASSES\n",
      "    builtins.object\n",
      "        Translator\n",
      "    \n",
      "    class Translator(builtins.object)\n",
      "     |  Methods defined here:\n",
      "     |  \n",
      "     |  __init__(self, to_lang, from_lang='en', provider=None, secret_access_key=None, **kwargs)\n",
      "     |      Initialize self.  See help(type(self)) for accurate signature.\n",
      "     |  \n",
      "     |  translate(self, text)\n",
      "     |  \n",
      "     |  ----------------------------------------------------------------------\n",
      "     |  Data descriptors defined here:\n",
      "     |  \n",
      "     |  __dict__\n",
      "     |      dictionary for instance variables (if defined)\n",
      "     |  \n",
      "     |  __weakref__\n",
      "     |      list of weak references to the object (if defined)\n",
      "\n",
      "DATA\n",
      "    PROVIDERS_CLASS = {'microsoft': <class 'translate.providers.microsoft....\n",
      "    TRANSLATION_API_MAX_LENGHT = 1000\n",
      "\n",
      "FILE\n",
      "    c:\\users\\mafudge\\appdata\\local\\programs\\python\\python36\\lib\\site-packages\\translate\\translate.py\n",
      "\n",
      "\n"
     ]
    }
   ],
   "source": [
    "help(translate.translate)"
   ]
  },
  {
   "cell_type": "code",
   "execution_count": 9,
   "metadata": {},
   "outputs": [],
   "source": [
    "import random"
   ]
  },
  {
   "cell_type": "code",
   "execution_count": 10,
   "metadata": {},
   "outputs": [
    {
     "data": {
      "text/plain": [
       "['BPF',\n",
       " 'LOG4',\n",
       " 'NV_MAGICCONST',\n",
       " 'RECIP_BPF',\n",
       " 'Random',\n",
       " 'SG_MAGICCONST',\n",
       " 'SystemRandom',\n",
       " 'TWOPI',\n",
       " '_BuiltinMethodType',\n",
       " '_MethodType',\n",
       " '_Sequence',\n",
       " '_Set',\n",
       " '__all__',\n",
       " '__builtins__',\n",
       " '__cached__',\n",
       " '__doc__',\n",
       " '__file__',\n",
       " '__loader__',\n",
       " '__name__',\n",
       " '__package__',\n",
       " '__spec__',\n",
       " '_acos',\n",
       " '_bisect',\n",
       " '_ceil',\n",
       " '_cos',\n",
       " '_e',\n",
       " '_exp',\n",
       " '_inst',\n",
       " '_itertools',\n",
       " '_log',\n",
       " '_pi',\n",
       " '_random',\n",
       " '_sha512',\n",
       " '_sin',\n",
       " '_sqrt',\n",
       " '_test',\n",
       " '_test_generator',\n",
       " '_urandom',\n",
       " '_warn',\n",
       " 'betavariate',\n",
       " 'choice',\n",
       " 'choices',\n",
       " 'expovariate',\n",
       " 'gammavariate',\n",
       " 'gauss',\n",
       " 'getrandbits',\n",
       " 'getstate',\n",
       " 'lognormvariate',\n",
       " 'normalvariate',\n",
       " 'paretovariate',\n",
       " 'randint',\n",
       " 'random',\n",
       " 'randrange',\n",
       " 'sample',\n",
       " 'seed',\n",
       " 'setstate',\n",
       " 'shuffle',\n",
       " 'triangular',\n",
       " 'uniform',\n",
       " 'vonmisesvariate',\n",
       " 'weibullvariate']"
      ]
     },
     "execution_count": 10,
     "metadata": {},
     "output_type": "execute_result"
    }
   ],
   "source": [
    "dir(random)"
   ]
  },
  {
   "cell_type": "code",
   "execution_count": 11,
   "metadata": {},
   "outputs": [
    {
     "name": "stdout",
     "output_type": "stream",
     "text": [
      "Help on method randint in module random:\n",
      "\n",
      "randint(a, b) method of random.Random instance\n",
      "    Return random integer in range [a, b], including both end points.\n",
      "\n"
     ]
    }
   ],
   "source": [
    "help(random.randint)"
   ]
  },
  {
   "cell_type": "code",
   "execution_count": 13,
   "metadata": {},
   "outputs": [
    {
     "name": "stdout",
     "output_type": "stream",
     "text": [
      "Enter length: 1\n",
      "Enter width: 1\n",
      "Area: 1.0 Per: 4.0\n"
     ]
    }
   ],
   "source": [
    "length = float(input(\"Enter length: \"))\n",
    "width = float(input(\"Enter width: \"))\n",
    "area = length * width\n",
    "per = 2* (length + width)\n",
    "print(\"Area:\", area, \"Per:\", per)"
   ]
  },
  {
   "cell_type": "code",
   "execution_count": 20,
   "metadata": {},
   "outputs": [],
   "source": [
    "def area(l,w):\n",
    "    '''\n",
    "    You input the l as length and w as with and this return the area l * w\n",
    "    '''\n",
    "    a = l * w\n",
    "    return a\n"
   ]
  },
  {
   "cell_type": "code",
   "execution_count": 21,
   "metadata": {},
   "outputs": [
    {
     "name": "stdout",
     "output_type": "stream",
     "text": [
      "Help on function area in module __main__:\n",
      "\n",
      "area(l, w)\n",
      "    You input the l as length and w as with and this return the area l * w\n",
      "\n"
     ]
    }
   ],
   "source": [
    "help(area)"
   ]
  },
  {
   "cell_type": "code",
   "execution_count": 22,
   "metadata": {},
   "outputs": [
    {
     "name": "stdout",
     "output_type": "stream",
     "text": [
      "Enter length: 1\n",
      "Enter width: 1\n",
      "Area: 1.0 Per: 4.0\n"
     ]
    }
   ],
   "source": [
    "length = float(input(\"Enter length: \"))\n",
    "width = float(input(\"Enter width: \"))\n",
    "a = area(length,width)\n",
    "per = 2* (length + width)\n",
    "print(\"Area:\", a, \"Per:\", per)"
   ]
  },
  {
   "cell_type": "code",
   "execution_count": 24,
   "metadata": {},
   "outputs": [
    {
     "name": "stdout",
     "output_type": "stream",
     "text": [
      "When number is 17 expect True, actual True\n",
      "When number is 20 expect False, actual False\n"
     ]
    }
   ],
   "source": [
    "\n",
    "def odd(number):\n",
    "    '''\n",
    "    This returns True when the number is odd.\n",
    "    '''\n",
    "    if number %2 ==1:\n",
    "        return True\n",
    "    else:\n",
    "        return False\n",
    "    \n",
    "\n",
    "print(\"When number is 17 expect True, actual\", odd(17))\n",
    "print(\"When number is 20 expect False, actual\", odd(20))"
   ]
  },
  {
   "cell_type": "code",
   "execution_count": 30,
   "metadata": {},
   "outputs": [
    {
     "name": "stdout",
     "output_type": "stream",
     "text": [
      "102 4\n"
     ]
    }
   ],
   "source": [
    "w = 99\n",
    "\n",
    "def x(a,b):\n",
    "    y = a + b + w  # w is in the global scope... dont do this!\n",
    "    return y\n",
    "\n",
    "\n",
    "y = 4\n",
    "print(x(1,2), y)"
   ]
  },
  {
   "cell_type": "code",
   "execution_count": 40,
   "metadata": {},
   "outputs": [
    {
     "name": "stdout",
     "output_type": "stream",
     "text": [
      "Let me translate that to French for you: you are a god\n",
      "Tu es un\n"
     ]
    }
   ],
   "source": [
    "from translate import Translator\n",
    "trans = Translator(to_lang='fr') # french\n",
    "text = input(\"Let me translate that to French for you: \")\n",
    "translated = trans.translate(text)\n",
    "print(translated)\n"
   ]
  },
  {
   "cell_type": "code",
   "execution_count": null,
   "metadata": {},
   "outputs": [],
   "source": []
  }
 ],
 "metadata": {
  "kernelspec": {
   "display_name": "Python 3",
   "language": "python",
   "name": "python3"
  },
  "language_info": {
   "codemirror_mode": {
    "name": "ipython",
    "version": 3
   },
   "file_extension": ".py",
   "mimetype": "text/x-python",
   "name": "python",
   "nbconvert_exporter": "python",
   "pygments_lexer": "ipython3",
   "version": "3.6.6"
  }
 },
 "nbformat": 4,
 "nbformat_minor": 2
}
