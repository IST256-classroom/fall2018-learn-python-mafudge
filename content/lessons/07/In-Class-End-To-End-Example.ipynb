{
 "cells": [
  {
   "cell_type": "code",
   "execution_count": 2,
   "metadata": {},
   "outputs": [
    {
     "name": "stderr",
     "output_type": "stream",
     "text": [
      "You are using pip version 18.0, however version 18.1 is available.\n",
      "You should consider upgrading via the 'python -m pip install --upgrade pip' command.\n"
     ]
    }
   ],
   "source": [
    "!pip install --quiet gTTS playsound"
   ]
  },
  {
   "cell_type": "code",
   "execution_count": 1,
   "metadata": {},
   "outputs": [],
   "source": [
    "from gtts import gTTS\n",
    "from playsound import playsound \n",
    "import os\n",
    "file = 'audio.mp3'\n",
    "tts = gTTS('hello', lang='en')\n",
    "tts.save(file)\n",
    "playsound(file)\n",
    "os.remove(file)"
   ]
  },
  {
   "cell_type": "code",
   "execution_count": 2,
   "metadata": {},
   "outputs": [
    {
     "name": "stdout",
     "output_type": "stream",
     "text": [
      "Help on class gTTS in module gtts.tts:\n",
      "\n",
      "class gTTS(builtins.object)\n",
      " |  gTTS -- Google Text-to-Speech.\n",
      " |  \n",
      " |  An interface to Google Translate's Text-to-Speech API.\n",
      " |  \n",
      " |  Args:\n",
      " |      text (string): The text to be read.\n",
      " |      lang (string, optional): The language (IETF language tag) to\n",
      " |          read the text in. Defaults to 'en'.\n",
      " |      slow (bool, optional): Reads text more slowly. Defaults to ``False``.\n",
      " |      lang_check (bool, optional): Strictly enforce an existing ``lang``,\n",
      " |          to catch a language error early. If set to ``True``,\n",
      " |          a ``ValueError`` is raised if ``lang`` doesn't exist.\n",
      " |          Default is ``True``.\n",
      " |      pre_processor_funcs (list): A list of zero or more functions that are\n",
      " |          called to transform (pre-process) text before tokenizing. Those\n",
      " |          functions must take a string and return a string. Defaults to::\n",
      " |  \n",
      " |              [\n",
      " |                  pre_processors.tone_marks,\n",
      " |                  pre_processors.end_of_line,\n",
      " |                  pre_processors.abbreviations,\n",
      " |                  pre_processors.word_sub\n",
      " |              ]\n",
      " |  \n",
      " |      tokenizer_func (callable): A function that takes in a string and\n",
      " |          returns a list of string (tokens). Defaults to::\n",
      " |  \n",
      " |              Tokenizer([\n",
      " |                  tokenizer_cases.tone_marks,\n",
      " |                  tokenizer_cases.period_comma,\n",
      " |                  tokenizer_cases.other_punctuation\n",
      " |              ]).run\n",
      " |  \n",
      " |  See Also:\n",
      " |      :doc:`Pre-processing and tokenizing <tokenizer>`\n",
      " |  \n",
      " |  Raises:\n",
      " |      AssertionError: When ``text`` is ``None`` or empty; when there's nothing\n",
      " |          left to speak after pre-precessing, tokenizing and cleaning.\n",
      " |      ValueError: When ``lang_check`` is ``True`` and ``lang`` is not supported.\n",
      " |      RuntimeError: When ``lang_check`` is ``True`` but there's an error loading\n",
      " |          the languages dictionnary.\n",
      " |  \n",
      " |  Methods defined here:\n",
      " |  \n",
      " |  __init__(self, text, lang='en', slow=False, lang_check=True, pre_processor_funcs=[<function tone_marks at 0x0000024087E32510>, <function end_of_line at 0x0000024087E581E0>, <function abbreviations at 0x0000024087E58268>, <function word_sub at 0x0000024087E582F0>], tokenizer_func=<bound method Tokenizer.run of re.compile('(?<=\\\\?).|(?<=\\\\!).|(?<=\\\\？).|(?<=\\\\！).|(?<!\\\\.[a-z])\\\\. |(?<!\\\\.[a-z])\\\\, |\\\\:|\\\\،|\\\\¡|\\\\]|\\\\：|\\\\。|\\\\)|\\\\;|\\\\…|\\\\(|\\\\¿|\\\\、|\\\\\\n|\\\\—|\\\\‥|\\\\[|\\\\，', re.IGNORECASE) from: [<function tone_marks at 0x0000024087E58378>, <function period_comma at 0x0000024087E58400>, <function other_punctuation at 0x0000024087E58488>]>)\n",
      " |      Initialize self.  See help(type(self)) for accurate signature.\n",
      " |  \n",
      " |  save(self, savefile)\n",
      " |      Do the TTS API request and write result to file.\n",
      " |      \n",
      " |      Args:\n",
      " |          savefile (string): The path and file name to save the ``mp3`` to.\n",
      " |      \n",
      " |      Raises:\n",
      " |          :class:`gTTSError`: When there's an error with the API request.\n",
      " |  \n",
      " |  write_to_fp(self, fp)\n",
      " |      Do the TTS API request and write bytes to a file-like object.\n",
      " |      \n",
      " |      Args:\n",
      " |          fp (file object): Any file-like object to write the ``mp3`` to.\n",
      " |      \n",
      " |      Raises:\n",
      " |          :class:`gTTSError`: When there's an error with the API request.\n",
      " |          TypeError: When ``fp`` is not a file-like object that takes bytes.\n",
      " |  \n",
      " |  ----------------------------------------------------------------------\n",
      " |  Data descriptors defined here:\n",
      " |  \n",
      " |  __dict__\n",
      " |      dictionary for instance variables (if defined)\n",
      " |  \n",
      " |  __weakref__\n",
      " |      list of weak references to the object (if defined)\n",
      " |  \n",
      " |  ----------------------------------------------------------------------\n",
      " |  Data and other attributes defined here:\n",
      " |  \n",
      " |  GOOGLE_TTS_HEADERS = {'Referer': 'http://translate.google.com/', 'User...\n",
      " |  \n",
      " |  GOOGLE_TTS_MAX_CHARS = 100\n",
      " |  \n",
      " |  GOOGLE_TTS_URL = 'https://translate.google.com/translate_tts'\n",
      "\n"
     ]
    }
   ],
   "source": [
    "help (gTTS)"
   ]
  },
  {
   "cell_type": "code",
   "execution_count": null,
   "metadata": {},
   "outputs": [],
   "source": []
  }
 ],
 "metadata": {
  "kernelspec": {
   "display_name": "Python 3",
   "language": "python",
   "name": "python3"
  },
  "language_info": {
   "codemirror_mode": {
    "name": "ipython",
    "version": 3
   },
   "file_extension": ".py",
   "mimetype": "text/x-python",
   "name": "python",
   "nbconvert_exporter": "python",
   "pygments_lexer": "ipython3",
   "version": "3.6.6"
  }
 },
 "nbformat": 4,
 "nbformat_minor": 2
}
