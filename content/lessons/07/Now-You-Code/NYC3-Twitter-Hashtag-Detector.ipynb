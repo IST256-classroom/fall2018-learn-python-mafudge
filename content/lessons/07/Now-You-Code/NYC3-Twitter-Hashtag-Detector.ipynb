{
 "cells": [
  {
   "cell_type": "markdown",
   "metadata": {},
   "source": [
    "# Now You Code 3: Twitter Hastag Detector\n",
    "\n",
    "Let's use Python's built-in string functions to help us write a program to detect Twitter hashtags in text. Here's how it should work:\n",
    "\n",
    "Example Run 1:\n",
    "\n",
    "```\n",
    "Enter Tweet: You got a 50 on the exam? #iamsad for you!\n",
    "Hashtag: #iamsad\n",
    "```    \n",
    "Example Run 2:\n",
    "\n",
    "```\n",
    "Enter Tweet: #lol too funny #joke #haha\n",
    "Hashtag: #lol\n",
    "Hashtag: #joke\n",
    "Hashtag: #haha\n",
    "```\n",
    "\n",
    "Example Run 3:\n",
    "\n",
    "```\n",
    "Enter Tweet: Happy birthday @mafudge\n",
    "Hashtag: none\n",
    "```\n",
    "\n",
    "Your approach should be to split the text into words and for each word look for the hashtag `#` at the start of the word."
   ]
  },
  {
   "cell_type": "markdown",
   "metadata": {},
   "source": [
    "## Step 1: Problem Analysis Program\n",
    "\n",
    "Inputs: tweet\n",
    "\n",
    "Outputs: hash tags from from the tweet\n",
    "\n",
    "Algorithm (Steps in Program):\n",
    "\n",
    "1) input tweet\n",
    "2) for each word in the tweet splitting by space\n",
    "3)     if the word start with \"#\"\n",
    "4)         word is a hashtag, print it"
   ]
  },
  {
   "cell_type": "code",
   "execution_count": 20,
   "metadata": {},
   "outputs": [
    {
     "name": "stdout",
     "output_type": "stream",
     "text": [
      "Enter Tweet: #dave?!?!? why are your tests so difficult? #ist233\n",
      "Hashtag: 1 #dave\n",
      "Hashtag: 2 #ist233\n"
     ]
    }
   ],
   "source": [
    "## Step 2: todo write code for full problem\n",
    "notin_ht = \"?./!';:,\"\n",
    "tweet = input(\"Enter Tweet: \")\n",
    "ht_count = 0\n",
    "for word in tweet.split(' '):\n",
    "    if word.startswith('#'):\n",
    "        for ch in notin_ht:\n",
    "            word = word.replace(ch,\"\")\n",
    "        ht_count = ht_count + 1\n",
    "        print(\"Hashtag:\",ht_count, word)\n",
    "\n",
    "if ht_count == 0:\n",
    "    print(\"There are no hashtags.\")"
   ]
  },
  {
   "cell_type": "markdown",
   "metadata": {},
   "source": [
    "## Step 3: Questions\n",
    "\n",
    "1. What happens when the hashtag is not in the beginning of the word? ex. `it wights 64# that's #heavy`? Is this a problem?\n",
    "2. Describe an approach for refactoring this code to use a function? What would the arguments and return values be? (Don't refactor the code, just describe your approach!) \n",
    "3. Is there a way to write this program without a loop?\n"
   ]
  },
  {
   "cell_type": "markdown",
   "metadata": {},
   "source": [
    "## Reminder of Evaluation Criteria\n",
    "\n",
    "1. What the problem attempted (analysis, code, and answered questions) ?\n",
    "2. What the problem analysis thought out? (does the program match the plan?)\n",
    "3. Does the code execute without syntax error?\n",
    "4. Does the code solve the intended problem?\n",
    "5. Is the code well written? (easy to understand, modular, and self-documenting, handles errors)\n"
   ]
  }
 ],
 "metadata": {
  "anaconda-cloud": {},
  "kernelspec": {
   "display_name": "Python 3",
   "language": "python",
   "name": "python3"
  },
  "language_info": {
   "codemirror_mode": {
    "name": "ipython",
    "version": 3
   },
   "file_extension": ".py",
   "mimetype": "text/x-python",
   "name": "python",
   "nbconvert_exporter": "python",
   "pygments_lexer": "ipython3",
   "version": "3.6.6"
  }
 },
 "nbformat": 4,
 "nbformat_minor": 1
}
