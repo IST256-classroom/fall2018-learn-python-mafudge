{
 "cells": [
  {
   "cell_type": "code",
   "execution_count": 29,
   "metadata": {},
   "outputs": [
    {
     "name": "stdout",
     "output_type": "stream",
     "text": [
      "Enter your BMI: 5\n"
     ]
    },
    {
     "data": {
      "text/html": [
       "<iframe id=\"igraph\" scrolling=\"no\" style=\"border:none;\" seamless=\"seamless\" src=\"https://plot.ly/~mafudge73fc/294.embed\" height=\"525px\" width=\"100%\"></iframe>"
      ],
      "text/plain": [
       "<plotly.tools.PlotlyDisplay object>"
      ]
     },
     "metadata": {},
     "output_type": "display_data"
    }
   ],
   "source": [
    "import plotly.plotly as py\n",
    "import plotly.graph_objs as go\n",
    "from IPython.display import display\n",
    "\n",
    "\n",
    "def draw(table, xlabel):\n",
    "    data = []\n",
    "    floor = 0\n",
    "    for row in table:\n",
    "        trace = go.Bar(\n",
    "            x=[xlabel],\n",
    "            y=[row['bmi'] - floor],\n",
    "            name= row['result']\n",
    "        )\n",
    "        data.append(trace)\n",
    "        floor = row['bmi']\n",
    "\n",
    "    traceme = go.Scatter( \n",
    "            x = [xlabel],\n",
    "            y=[me],\n",
    "            mode = 'lines+markers',\n",
    "            line = { 'width' : 5},\n",
    "            name='You'\n",
    "    )\n",
    "\n",
    "    data.append(traceme)\n",
    "\n",
    "    layout = go.Layout(\n",
    "        barmode='stack'\n",
    "    )\n",
    "\n",
    "    fig = go.Figure(data=data, layout=layout)\n",
    "    display(py.iplot(fig, filename='stacked-bar'))\n",
    "    \n",
    "\n",
    "\n",
    "\n",
    "me =int(input(\"Enter your BMI: \"))\n",
    "\n",
    "d_bmi = [ { 'bmi' : 13, 'result': 'Underweight'},\n",
    "         { 'bmi' : 24, 'result' :'Healthy'},\n",
    "         { 'bmi' : 50, 'result' :'Overweight'}\n",
    "        ]\n",
    "    \n",
    "draw(d_bmi, 'Body Mass')\n",
    "draw(dW_fat, \"Women's Body Fat\")"
   ]
  },
  {
   "cell_type": "code",
   "execution_count": null,
   "metadata": {},
   "outputs": [],
   "source": []
  }
 ],
 "metadata": {
  "kernelspec": {
   "display_name": "Python 3",
   "language": "python",
   "name": "python3"
  },
  "language_info": {
   "codemirror_mode": {
    "name": "ipython",
    "version": 3
   },
   "file_extension": ".py",
   "mimetype": "text/x-python",
   "name": "python",
   "nbconvert_exporter": "python",
   "pygments_lexer": "ipython3",
   "version": "3.6.6"
  }
 },
 "nbformat": 4,
 "nbformat_minor": 2
}
