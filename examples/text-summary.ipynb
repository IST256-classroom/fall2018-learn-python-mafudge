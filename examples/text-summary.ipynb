{
 "cells": [
  {
   "cell_type": "code",
   "execution_count": 4,
   "metadata": {},
   "outputs": [],
   "source": [
    "from summa import summarizer\n",
    "from summa import keywords\n",
    "from summa.summarizer import summarize\n"
   ]
  },
  {
   "cell_type": "code",
   "execution_count": 10,
   "metadata": {},
   "outputs": [
    {
     "name": "stdout",
     "output_type": "stream",
     "text": [
      "President Trump had a constructive dialogue with Democrat Leaders Chuck Schumer and Nancy Pelosi. The President and the Democrat Leaders agreed to support the passage of historic Criminal Justice Reform, and discussed significant progress with the Farm Bill. Major disagreement remains on the issue of border security and transparency. \n",
      "\"Walls work — where walls have been built, illegal crossings have dropped substantially. President Trump made clear that any government funding measure must include responsible border security, including a wall, to protect the American people from drugs, crime, terrorism, public health threats, and the severe straining of the social safety net. Illegal immigration is deeply unfair to American workers, wage-earners, and taxpayers — costing billions of dollars and thousands of innocent lives. So far, the Democrat Party has made clear they would rather keep the border open than the government open. President Trump was grateful for the opportunity to let the press into the meeting so that the American People can see firsthand that while Republicans are fighting to protect our border, Democrats are fighting to protect illegal immigrants. This administration will always put Americans first.\n",
      "We will continue to pursue real solutions to defend our nation and uphold our laws — and hope Democrats will work with us in a bipartisan fashion to do so. A nation without borders is no nation at all.\n"
     ]
    },
    {
     "data": {
      "text/plain": [
       "'President Trump was grateful for the opportunity to let the press into the meeting so that the American People can see firsthand that while Republicans are fighting to protect our border, Democrats are fighting to protect illegal immigrants.'"
      ]
     },
     "execution_count": 10,
     "metadata": {},
     "output_type": "execute_result"
    }
   ],
   "source": [
    "with open('trump-press-release.txt','r', encoding='utf-8') as f:\n",
    "    text = f.read()\n",
    "\n",
    "    print(text)\n",
    "summarize(text, words = 50 ) #ratio=0.2)"
   ]
  },
  {
   "cell_type": "code",
   "execution_count": null,
   "metadata": {},
   "outputs": [],
   "source": []
  }
 ],
 "metadata": {
  "kernelspec": {
   "display_name": "Python 3",
   "language": "python",
   "name": "python3"
  },
  "language_info": {
   "codemirror_mode": {
    "name": "ipython",
    "version": 3
   },
   "file_extension": ".py",
   "mimetype": "text/x-python",
   "name": "python",
   "nbconvert_exporter": "python",
   "pygments_lexer": "ipython3",
   "version": "3.6.6"
  }
 },
 "nbformat": 4,
 "nbformat_minor": 2
}
